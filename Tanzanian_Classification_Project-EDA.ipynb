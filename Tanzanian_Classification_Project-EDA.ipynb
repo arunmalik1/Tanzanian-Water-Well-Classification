{
 "cells": [
  {
   "cell_type": "code",
   "execution_count": 1,
   "metadata": {},
   "outputs": [],
   "source": [
    "#Build a classifier to predict the condition of a water well, \n",
    "#using information about the sort of pump, when it was installed, etc. \n",
    "#Your audience could be an NGO focused on locating wells needing repair, \n",
    "#or the Government of Tanzania looking to find patterns in non-functional wells \n",
    "#to influence how new wells are built. Note that this is a ternary classification problem \n",
    "#by default, but can be engineered to be binary."
   ]
  },
  {
   "cell_type": "code",
   "execution_count": null,
   "metadata": {},
   "outputs": [],
   "source": [
    "#Loading packages \n",
    "\n",
    "import pandas as pd\n",
    "import numpy as np\n",
    "import matplotlib.pyplot as plt \n",
    "from sklearn.preprocessing import StandardScaler\n",
    "from sklearn.neighbors import KNeighborsClassifier\n",
    "from sklearn.model_selection import train_test_split, GridSearchCV\n",
    "from sklearn.ensemble import RandomForestClassifier\n",
    "from sklearn.pipeline import Pipeline\n",
    "\n",
    "import warnings\n",
    "warnings.filterwarnings('ignore')"
   ]
  },
  {
   "cell_type": "code",
   "execution_count": 2,
   "metadata": {},
   "outputs": [],
   "source": [
    "#read in the test values data and set id as the index\n",
    "test_value_df = pd.read_csv(\"/Users/arun/Desktop/Flatiron/Projects/Phase3_Project/Test_set_values.csv\", index_col = 0)"
   ]
  },
  {
   "cell_type": "code",
   "execution_count": 8,
   "metadata": {},
   "outputs": [],
   "source": [
    "#read in the training values data and set id as the index\n",
    "training_value_df = pd.read_csv('/Users/arun/Desktop/Flatiron/Projects/Phase3_Project/Training_set_values.csv', index_col = 0)\n",
    "\n",
    "#read in the training labels data and set id as the index\n",
    "training_label_df = pd.read_csv('/Users/arun/Desktop/Flatiron/Projects/Phase3_Project/Training_set_labels.csv', index_col = 0)\n",
    "\n",
    "#combine the training datasets\n",
    "training_df = pd.concat([training_value_df, training_label_df], axis=1)"
   ]
  },
  {
   "cell_type": "markdown",
   "metadata": {},
   "source": [
    "# EDA"
   ]
  },
  {
   "cell_type": "code",
   "execution_count": 69,
   "metadata": {},
   "outputs": [
    {
     "name": "stdout",
     "output_type": "stream",
     "text": [
      "<class 'pandas.core.frame.DataFrame'>\n",
      "Int64Index: 59400 entries, 69572 to 26348\n",
      "Data columns (total 40 columns):\n",
      " #   Column                 Non-Null Count  Dtype  \n",
      "---  ------                 --------------  -----  \n",
      " 0   amount_tsh             59400 non-null  float64\n",
      " 1   date_recorded          59400 non-null  object \n",
      " 2   funder                 55765 non-null  object \n",
      " 3   gps_height             59400 non-null  int64  \n",
      " 4   installer              55745 non-null  object \n",
      " 5   longitude              59400 non-null  float64\n",
      " 6   latitude               59400 non-null  float64\n",
      " 7   wpt_name               59400 non-null  object \n",
      " 8   num_private            59400 non-null  int64  \n",
      " 9   basin                  59400 non-null  object \n",
      " 10  subvillage             59029 non-null  object \n",
      " 11  region                 59400 non-null  object \n",
      " 12  region_code            59400 non-null  int64  \n",
      " 13  district_code          59400 non-null  int64  \n",
      " 14  lga                    59400 non-null  object \n",
      " 15  ward                   59400 non-null  object \n",
      " 16  population             59400 non-null  int64  \n",
      " 17  public_meeting         56066 non-null  object \n",
      " 18  recorded_by            59400 non-null  object \n",
      " 19  scheme_management      55523 non-null  object \n",
      " 20  scheme_name            31234 non-null  object \n",
      " 21  permit                 56344 non-null  object \n",
      " 22  construction_year      59400 non-null  int64  \n",
      " 23  extraction_type        59400 non-null  object \n",
      " 24  extraction_type_group  59400 non-null  object \n",
      " 25  extraction_type_class  59400 non-null  object \n",
      " 26  management             59400 non-null  object \n",
      " 27  management_group       59400 non-null  object \n",
      " 28  payment                59400 non-null  object \n",
      " 29  payment_type           59400 non-null  object \n",
      " 30  water_quality          59400 non-null  object \n",
      " 31  quality_group          59400 non-null  object \n",
      " 32  quantity               59400 non-null  object \n",
      " 33  quantity_group         59400 non-null  object \n",
      " 34  source                 59400 non-null  object \n",
      " 35  source_type            59400 non-null  object \n",
      " 36  source_class           59400 non-null  object \n",
      " 37  waterpoint_type        59400 non-null  object \n",
      " 38  waterpoint_type_group  59400 non-null  object \n",
      " 39  status_group           59400 non-null  object \n",
      "dtypes: float64(3), int64(6), object(31)\n",
      "memory usage: 18.6+ MB\n"
     ]
    }
   ],
   "source": [
    "#A few missing values, possible redundant data in multiple columns.\n",
    "training_df.info()"
   ]
  },
  {
   "cell_type": "code",
   "execution_count": 9,
   "metadata": {},
   "outputs": [
    {
     "data": {
      "text/html": [
       "<div>\n",
       "<style scoped>\n",
       "    .dataframe tbody tr th:only-of-type {\n",
       "        vertical-align: middle;\n",
       "    }\n",
       "\n",
       "    .dataframe tbody tr th {\n",
       "        vertical-align: top;\n",
       "    }\n",
       "\n",
       "    .dataframe thead th {\n",
       "        text-align: right;\n",
       "    }\n",
       "</style>\n",
       "<table border=\"1\" class=\"dataframe\">\n",
       "  <thead>\n",
       "    <tr style=\"text-align: right;\">\n",
       "      <th></th>\n",
       "      <th>amount_tsh</th>\n",
       "      <th>gps_height</th>\n",
       "      <th>longitude</th>\n",
       "      <th>latitude</th>\n",
       "      <th>num_private</th>\n",
       "      <th>region_code</th>\n",
       "      <th>district_code</th>\n",
       "      <th>population</th>\n",
       "      <th>construction_year</th>\n",
       "    </tr>\n",
       "  </thead>\n",
       "  <tbody>\n",
       "    <tr>\n",
       "      <th>count</th>\n",
       "      <td>59400.000000</td>\n",
       "      <td>59400.000000</td>\n",
       "      <td>59400.000000</td>\n",
       "      <td>5.940000e+04</td>\n",
       "      <td>59400.000000</td>\n",
       "      <td>59400.000000</td>\n",
       "      <td>59400.000000</td>\n",
       "      <td>59400.000000</td>\n",
       "      <td>59400.000000</td>\n",
       "    </tr>\n",
       "    <tr>\n",
       "      <th>mean</th>\n",
       "      <td>317.650385</td>\n",
       "      <td>668.297239</td>\n",
       "      <td>34.077427</td>\n",
       "      <td>-5.706033e+00</td>\n",
       "      <td>0.474141</td>\n",
       "      <td>15.297003</td>\n",
       "      <td>5.629747</td>\n",
       "      <td>179.909983</td>\n",
       "      <td>1300.652475</td>\n",
       "    </tr>\n",
       "    <tr>\n",
       "      <th>std</th>\n",
       "      <td>2997.574558</td>\n",
       "      <td>693.116350</td>\n",
       "      <td>6.567432</td>\n",
       "      <td>2.946019e+00</td>\n",
       "      <td>12.236230</td>\n",
       "      <td>17.587406</td>\n",
       "      <td>9.633649</td>\n",
       "      <td>471.482176</td>\n",
       "      <td>951.620547</td>\n",
       "    </tr>\n",
       "    <tr>\n",
       "      <th>min</th>\n",
       "      <td>0.000000</td>\n",
       "      <td>-90.000000</td>\n",
       "      <td>0.000000</td>\n",
       "      <td>-1.164944e+01</td>\n",
       "      <td>0.000000</td>\n",
       "      <td>1.000000</td>\n",
       "      <td>0.000000</td>\n",
       "      <td>0.000000</td>\n",
       "      <td>0.000000</td>\n",
       "    </tr>\n",
       "    <tr>\n",
       "      <th>25%</th>\n",
       "      <td>0.000000</td>\n",
       "      <td>0.000000</td>\n",
       "      <td>33.090347</td>\n",
       "      <td>-8.540621e+00</td>\n",
       "      <td>0.000000</td>\n",
       "      <td>5.000000</td>\n",
       "      <td>2.000000</td>\n",
       "      <td>0.000000</td>\n",
       "      <td>0.000000</td>\n",
       "    </tr>\n",
       "    <tr>\n",
       "      <th>50%</th>\n",
       "      <td>0.000000</td>\n",
       "      <td>369.000000</td>\n",
       "      <td>34.908743</td>\n",
       "      <td>-5.021597e+00</td>\n",
       "      <td>0.000000</td>\n",
       "      <td>12.000000</td>\n",
       "      <td>3.000000</td>\n",
       "      <td>25.000000</td>\n",
       "      <td>1986.000000</td>\n",
       "    </tr>\n",
       "    <tr>\n",
       "      <th>75%</th>\n",
       "      <td>20.000000</td>\n",
       "      <td>1319.250000</td>\n",
       "      <td>37.178387</td>\n",
       "      <td>-3.326156e+00</td>\n",
       "      <td>0.000000</td>\n",
       "      <td>17.000000</td>\n",
       "      <td>5.000000</td>\n",
       "      <td>215.000000</td>\n",
       "      <td>2004.000000</td>\n",
       "    </tr>\n",
       "    <tr>\n",
       "      <th>max</th>\n",
       "      <td>350000.000000</td>\n",
       "      <td>2770.000000</td>\n",
       "      <td>40.345193</td>\n",
       "      <td>-2.000000e-08</td>\n",
       "      <td>1776.000000</td>\n",
       "      <td>99.000000</td>\n",
       "      <td>80.000000</td>\n",
       "      <td>30500.000000</td>\n",
       "      <td>2013.000000</td>\n",
       "    </tr>\n",
       "  </tbody>\n",
       "</table>\n",
       "</div>"
      ],
      "text/plain": [
       "          amount_tsh    gps_height     longitude      latitude   num_private  \\\n",
       "count   59400.000000  59400.000000  59400.000000  5.940000e+04  59400.000000   \n",
       "mean      317.650385    668.297239     34.077427 -5.706033e+00      0.474141   \n",
       "std      2997.574558    693.116350      6.567432  2.946019e+00     12.236230   \n",
       "min         0.000000    -90.000000      0.000000 -1.164944e+01      0.000000   \n",
       "25%         0.000000      0.000000     33.090347 -8.540621e+00      0.000000   \n",
       "50%         0.000000    369.000000     34.908743 -5.021597e+00      0.000000   \n",
       "75%        20.000000   1319.250000     37.178387 -3.326156e+00      0.000000   \n",
       "max    350000.000000   2770.000000     40.345193 -2.000000e-08   1776.000000   \n",
       "\n",
       "        region_code  district_code    population  construction_year  \n",
       "count  59400.000000   59400.000000  59400.000000       59400.000000  \n",
       "mean      15.297003       5.629747    179.909983        1300.652475  \n",
       "std       17.587406       9.633649    471.482176         951.620547  \n",
       "min        1.000000       0.000000      0.000000           0.000000  \n",
       "25%        5.000000       2.000000      0.000000           0.000000  \n",
       "50%       12.000000       3.000000     25.000000        1986.000000  \n",
       "75%       17.000000       5.000000    215.000000        2004.000000  \n",
       "max       99.000000      80.000000  30500.000000        2013.000000  "
      ]
     },
     "execution_count": 9,
     "metadata": {},
     "output_type": "execute_result"
    }
   ],
   "source": [
    "#big range in values for construction year, population\n",
    "#possible outliers in amount_tsh and big range in population and construction year.\n",
    "#Multiple columns have 0 as a value.\n",
    "\n",
    "training_df.describe()"
   ]
  },
  {
   "cell_type": "code",
   "execution_count": 71,
   "metadata": {},
   "outputs": [
    {
     "data": {
      "text/plain": [
       "amount_tsh                   0\n",
       "date_recorded                0\n",
       "funder                    3635\n",
       "gps_height                   0\n",
       "installer                 3655\n",
       "longitude                    0\n",
       "latitude                     0\n",
       "wpt_name                     0\n",
       "num_private                  0\n",
       "basin                        0\n",
       "subvillage                 371\n",
       "region                       0\n",
       "region_code                  0\n",
       "district_code                0\n",
       "lga                          0\n",
       "ward                         0\n",
       "population                   0\n",
       "public_meeting            3334\n",
       "recorded_by                  0\n",
       "scheme_management         3877\n",
       "scheme_name              28166\n",
       "permit                    3056\n",
       "construction_year            0\n",
       "extraction_type              0\n",
       "extraction_type_group        0\n",
       "extraction_type_class        0\n",
       "management                   0\n",
       "management_group             0\n",
       "payment                      0\n",
       "payment_type                 0\n",
       "water_quality                0\n",
       "quality_group                0\n",
       "quantity                     0\n",
       "quantity_group               0\n",
       "source                       0\n",
       "source_type                  0\n",
       "source_class                 0\n",
       "waterpoint_type              0\n",
       "waterpoint_type_group        0\n",
       "status_group                 0\n",
       "dtype: int64"
      ]
     },
     "execution_count": 71,
     "metadata": {},
     "output_type": "execute_result"
    }
   ],
   "source": [
    "#look for null values in the dataset\n",
    "training_df.isna().sum()"
   ]
  },
  {
   "cell_type": "code",
   "execution_count": 72,
   "metadata": {},
   "outputs": [
    {
     "name": "stdout",
     "output_type": "stream",
     "text": [
      "Count of zeros in column in amount_tsh  is :  41639\n",
      "Count of zeros in column in date_recorded  is :  0\n",
      "Count of zeros in column in funder  is :  0\n",
      "Count of zeros in column in gps_height  is :  20438\n",
      "Count of zeros in column in installer  is :  0\n",
      "Count of zeros in column in longitude  is :  1812\n",
      "Count of zeros in column in latitude  is :  0\n",
      "Count of zeros in column in wpt_name  is :  0\n",
      "Count of zeros in column in num_private  is :  58643\n",
      "Count of zeros in column in basin  is :  0\n",
      "Count of zeros in column in subvillage  is :  0\n",
      "Count of zeros in column in region  is :  0\n",
      "Count of zeros in column in region_code  is :  0\n",
      "Count of zeros in column in district_code  is :  23\n",
      "Count of zeros in column in lga  is :  0\n",
      "Count of zeros in column in ward  is :  0\n",
      "Count of zeros in column in population  is :  21381\n",
      "Count of zeros in column in public_meeting  is :  5055\n",
      "Count of zeros in column in recorded_by  is :  0\n",
      "Count of zeros in column in scheme_management  is :  0\n",
      "Count of zeros in column in scheme_name  is :  0\n",
      "Count of zeros in column in permit  is :  17492\n",
      "Count of zeros in column in construction_year  is :  20709\n",
      "Count of zeros in column in extraction_type  is :  0\n",
      "Count of zeros in column in extraction_type_group  is :  0\n",
      "Count of zeros in column in extraction_type_class  is :  0\n",
      "Count of zeros in column in management  is :  0\n",
      "Count of zeros in column in management_group  is :  0\n",
      "Count of zeros in column in payment  is :  0\n",
      "Count of zeros in column in payment_type  is :  0\n",
      "Count of zeros in column in water_quality  is :  0\n",
      "Count of zeros in column in quality_group  is :  0\n",
      "Count of zeros in column in quantity  is :  0\n",
      "Count of zeros in column in quantity_group  is :  0\n",
      "Count of zeros in column in source  is :  0\n",
      "Count of zeros in column in source_type  is :  0\n",
      "Count of zeros in column in source_class  is :  0\n",
      "Count of zeros in column in waterpoint_type  is :  0\n",
      "Count of zeros in column in waterpoint_type_group  is :  0\n",
      "Count of zeros in column in status_group  is :  0\n"
     ]
    }
   ],
   "source": [
    "#Count number of zeros in all columns of Dataframe\n",
    "#significant amount of zeros in multiple columns. Looks like num_private can be dropped as a start\n",
    "\n",
    "#amount_tsh will need some sort of imputing \n",
    "#construction year has no NA values but does have over 20K zero values.\n",
    "\n",
    "for column_name in training_df.columns:\n",
    "    column = training_df[column_name]\n",
    "    # Get the count of Zeros in column \n",
    "    count = (column == 0).sum()\n",
    "    print('Count of zeros in column in', column_name, ' is : ', count)"
   ]
  },
  {
   "cell_type": "code",
   "execution_count": 55,
   "metadata": {},
   "outputs": [
    {
     "name": "stdout",
     "output_type": "stream",
     "text": [
      "functional                 32259\n",
      "non functional             22824\n",
      "functional needs repair     4317\n",
      "Name: status_group, dtype: int64\n"
     ]
    }
   ],
   "source": [
    "#The target variable is status_group.\n",
    "\n",
    "#54.30% of the pumps are funtional\n",
    "#38.42% of the pumps are non functional\n",
    "#7.26% of the pumps need repair\n",
    "\n",
    "print(training_df['status_group'].value_counts())"
   ]
  },
  {
   "cell_type": "code",
   "execution_count": 74,
   "metadata": {},
   "outputs": [
    {
     "name": "stdout",
     "output_type": "stream",
     "text": [
      "region count: 21\n",
      "region code count: 27\n",
      "district code count: 20\n"
     ]
    }
   ],
   "source": [
    "#There are 6 different variables for Geographic location not including Long/Lat.\n",
    "\n",
    "print('region count:' ,len(training_df['region'].unique()))\n",
    "\n",
    "#region code count has more categories then region count\n",
    "print('region code count:', len(training_df['region_code'].unique()))\n",
    "\n",
    "#district code has 23 0 values but still might be better to use because of numerical values\n",
    "print('district code count:', len(training_df['district_code'].unique()))"
   ]
  },
  {
   "cell_type": "code",
   "execution_count": 75,
   "metadata": {},
   "outputs": [
    {
     "name": "stdout",
     "output_type": "stream",
     "text": [
      "scheme_management: 13\n",
      "VWC                 36793\n",
      "WUG                  5206\n",
      "Water authority      3153\n",
      "WUA                  2883\n",
      "Water Board          2748\n",
      "Parastatal           1680\n",
      "Private operator     1063\n",
      "Company              1061\n",
      "Other                 766\n",
      "SWC                    97\n",
      "Trust                  72\n",
      "None                    1\n",
      "Name: scheme_management, dtype: int64\n",
      "----------------------------------------------\n",
      "scheme_name: 2697\n",
      "K                                  682\n",
      "None                               644\n",
      "Borehole                           546\n",
      "Chalinze wate                      405\n",
      "M                                  400\n",
      "                                  ... \n",
      "Chikombo water supply                1\n",
      "Njalamatatawater gravity scheme      1\n",
      "PIDP                                 1\n",
      "Heshivu water supply                 1\n",
      "UHEKULE                              1\n",
      "Name: scheme_name, Length: 2696, dtype: int64\n"
     ]
    }
   ],
   "source": [
    "#scheme_management and scheme_name are data for who operates the waterpoint\n",
    "#Scheme_name has alot more None values, but the scheme_mangement has vague categories like company and other\n",
    "\n",
    "print('scheme_management:' ,len(training_df['scheme_management'].unique()))\n",
    "print(training_df['scheme_management'].value_counts())\n",
    "\n",
    "print('----------------------------------------------')\n",
    "\n",
    "print('scheme_name:' ,len(training_df['scheme_name'].unique()))\n",
    "print(training_df['scheme_name'].value_counts())\n",
    "\n"
   ]
  },
  {
   "cell_type": "code",
   "execution_count": 37,
   "metadata": {},
   "outputs": [
    {
     "name": "stdout",
     "output_type": "stream",
     "text": [
      "extraction_type: 18\n",
      "gravity                      26780\n",
      "nira/tanira                   8154\n",
      "other                         6430\n",
      "submersible                   4764\n",
      "swn 80                        3670\n",
      "mono                          2865\n",
      "india mark ii                 2400\n",
      "afridev                       1770\n",
      "ksb                           1415\n",
      "other - rope pump              451\n",
      "other - swn 81                 229\n",
      "windmill                       117\n",
      "india mark iii                  98\n",
      "cemo                            90\n",
      "other - play pump               85\n",
      "walimi                          48\n",
      "climax                          32\n",
      "other - mkulima/shinyanga        2\n",
      "Name: extraction_type, dtype: int64\n",
      "----------------------------------------------\n",
      "extraction_type_group: 13\n",
      "gravity            26780\n",
      "nira/tanira         8154\n",
      "other               6430\n",
      "submersible         6179\n",
      "swn 80              3670\n",
      "mono                2865\n",
      "india mark ii       2400\n",
      "afridev             1770\n",
      "rope pump            451\n",
      "other handpump       364\n",
      "other motorpump      122\n",
      "wind-powered         117\n",
      "india mark iii        98\n",
      "Name: extraction_type_group, dtype: int64\n",
      "----------------------------------------------\n",
      "extraction_type_class: 7\n",
      "gravity         26780\n",
      "handpump        16456\n",
      "other            6430\n",
      "submersible      6179\n",
      "motorpump        2987\n",
      "rope pump         451\n",
      "wind-powered      117\n",
      "Name: extraction_type_class, dtype: int64\n"
     ]
    }
   ],
   "source": [
    "#extraction_type, extraction_type_group and extraction_type_class seem very similar as well\n",
    "#They all have no null values and don't contain 0 as a value \n",
    "#going to use just extraction_type since it has the most categories\n",
    "\n",
    "print('extraction_type:' ,len(training_df['extraction_type'].unique()))\n",
    "print(training_df['extraction_type'].value_counts())\n",
    "print('----------------------------------------------')\n",
    "print('extraction_type_group:' ,len(training_df['extraction_type_group'].unique()))\n",
    "print(training_df['extraction_type_group'].value_counts())\n",
    "print('----------------------------------------------')\n",
    "print('extraction_type_class:' ,len(training_df['extraction_type_class'].unique()))\n",
    "print(training_df['extraction_type_class'].value_counts())"
   ]
  },
  {
   "cell_type": "code",
   "execution_count": 41,
   "metadata": {},
   "outputs": [
    {
     "name": "stdout",
     "output_type": "stream",
     "text": [
      "management: 12\n",
      "vwc                 40507\n",
      "wug                  6515\n",
      "water board          2933\n",
      "wua                  2535\n",
      "private operator     1971\n",
      "parastatal           1768\n",
      "water authority       904\n",
      "other                 844\n",
      "company               685\n",
      "unknown               561\n",
      "other - school         99\n",
      "trust                  78\n",
      "Name: management, dtype: int64\n",
      "----------------------------------------------\n",
      "management_group: 5\n",
      "user-group    52490\n",
      "commercial     3638\n",
      "parastatal     1768\n",
      "other           943\n",
      "unknown         561\n",
      "Name: management_group, dtype: int64\n"
     ]
    }
   ],
   "source": [
    "#how the waterpoint is managed also has similar data\n",
    "#going to use management\n",
    "\n",
    "print('management:' ,len(training_df['management'].unique()))\n",
    "print(training_df['management'].value_counts())\n",
    "print('----------------------------------------------')\n",
    "print('management_group:' ,len(training_df['management_group'].unique()))\n",
    "print(training_df['management_group'].value_counts())"
   ]
  },
  {
   "cell_type": "code",
   "execution_count": 76,
   "metadata": {},
   "outputs": [
    {
     "name": "stdout",
     "output_type": "stream",
     "text": [
      "payment: 7\n",
      "never pay                25348\n",
      "pay per bucket            8985\n",
      "pay monthly               8300\n",
      "unknown                   8157\n",
      "pay when scheme fails     3914\n",
      "pay annually              3642\n",
      "other                     1054\n",
      "Name: payment, dtype: int64\n",
      "--------------------------------------------------------\n",
      "payment_type: 7\n",
      "never pay     25348\n",
      "per bucket     8985\n",
      "monthly        8300\n",
      "unknown        8157\n",
      "on failure     3914\n",
      "annually       3642\n",
      "other          1054\n",
      "Name: payment_type, dtype: int64\n"
     ]
    }
   ],
   "source": [
    "#payment has 2 variables as well, seem identical\n",
    "\n",
    "print('payment:' ,len(training_df['payment'].unique()))\n",
    "print(training_df['payment'].value_counts())\n",
    "print('--------------------------------------------------------')\n",
    "print('payment_type:' ,len(training_df['payment_type'].unique()))\n",
    "print(training_df['payment_type'].value_counts())"
   ]
  },
  {
   "cell_type": "code",
   "execution_count": 43,
   "metadata": {},
   "outputs": [
    {
     "name": "stdout",
     "output_type": "stream",
     "text": [
      "water_quality: 8\n",
      "soft                  50818\n",
      "salty                  4856\n",
      "unknown                1876\n",
      "milky                   804\n",
      "coloured                490\n",
      "salty abandoned         339\n",
      "fluoride                200\n",
      "fluoride abandoned       17\n",
      "Name: water_quality, dtype: int64\n",
      "----------------------------------------------\n",
      "quality_group: 6\n",
      "good        50818\n",
      "salty        5195\n",
      "unknown      1876\n",
      "milky         804\n",
      "colored       490\n",
      "fluoride      217\n",
      "Name: quality_group, dtype: int64\n"
     ]
    }
   ],
   "source": [
    "#water quality also has 2 variables\n",
    "#water_quality will be better because I want to remove the abandoned wells\n",
    "\n",
    "print('water_quality:' ,len(training_df['water_quality'].unique()))\n",
    "print(training_df['water_quality'].value_counts())\n",
    "print('----------------------------------------------')\n",
    "print('quality_group:' ,len(training_df['quality_group'].unique()))\n",
    "print(training_df['quality_group'].value_counts())"
   ]
  },
  {
   "cell_type": "code",
   "execution_count": 47,
   "metadata": {},
   "outputs": [
    {
     "name": "stdout",
     "output_type": "stream",
     "text": [
      "quantity: 5\n",
      "enough          33186\n",
      "insufficient    15129\n",
      "dry              6246\n",
      "seasonal         4050\n",
      "unknown           789\n",
      "Name: quantity, dtype: int64\n",
      "----------------------------------------------\n",
      "quantity_group : 5\n",
      "enough          33186\n",
      "insufficient    15129\n",
      "dry              6246\n",
      "seasonal         4050\n",
      "unknown           789\n",
      "Name: quantity_group, dtype: int64\n"
     ]
    }
   ],
   "source": [
    "#water quantity also has 2 variables\n",
    "#identical, will use quantity \n",
    "\n",
    "print('quantity:' ,len(training_df['quantity'].unique()))\n",
    "print(training_df['quantity'].value_counts())\n",
    "print('----------------------------------------------')\n",
    "print('quantity_group :' ,len(training_df['quantity_group'].unique()))\n",
    "print(training_df['quantity_group'].value_counts())"
   ]
  },
  {
   "cell_type": "code",
   "execution_count": 48,
   "metadata": {},
   "outputs": [
    {
     "name": "stdout",
     "output_type": "stream",
     "text": [
      "source: 10\n",
      "spring                  17021\n",
      "shallow well            16824\n",
      "machine dbh             11075\n",
      "river                    9612\n",
      "rainwater harvesting     2295\n",
      "hand dtw                  874\n",
      "lake                      765\n",
      "dam                       656\n",
      "other                     212\n",
      "unknown                    66\n",
      "Name: source, dtype: int64\n",
      "----------------------------------------------\n",
      "source_type: 7\n",
      "spring                  17021\n",
      "shallow well            16824\n",
      "borehole                11949\n",
      "river/lake              10377\n",
      "rainwater harvesting     2295\n",
      "dam                       656\n",
      "other                     278\n",
      "Name: source_type, dtype: int64\n",
      "----------------------------------------------\n",
      "source_class: 3\n",
      "groundwater    45794\n",
      "surface        13328\n",
      "unknown          278\n",
      "Name: source_class, dtype: int64\n"
     ]
    }
   ],
   "source": [
    "#there are 3 varaibles for water source\n",
    "#going to use source, less unknowns and more granular categories\n",
    "\n",
    "print('source:' ,len(training_df['source'].unique()))\n",
    "print(training_df['source'].value_counts())\n",
    "print('----------------------------------------------')\n",
    "print('source_type:' ,len(training_df['source_type'].unique()))\n",
    "print(training_df['source_type'].value_counts())\n",
    "print('----------------------------------------------')\n",
    "print('source_class:' ,len(training_df['source_class'].unique()))\n",
    "print(training_df['source_class'].value_counts())"
   ]
  },
  {
   "cell_type": "code",
   "execution_count": 49,
   "metadata": {},
   "outputs": [
    {
     "name": "stdout",
     "output_type": "stream",
     "text": [
      "waterpoint_type 7\n",
      "communal standpipe             28522\n",
      "hand pump                      17488\n",
      "other                           6380\n",
      "communal standpipe multiple     6103\n",
      "improved spring                  784\n",
      "cattle trough                    116\n",
      "dam                                7\n",
      "Name: waterpoint_type, dtype: int64\n",
      "----------------------------------------------\n",
      "waterpoint_type_group: 6\n",
      "communal standpipe    34625\n",
      "hand pump             17488\n",
      "other                  6380\n",
      "improved spring         784\n",
      "cattle trough           116\n",
      "dam                       7\n",
      "Name: waterpoint_type_group, dtype: int64\n"
     ]
    }
   ],
   "source": [
    "#waterpoint also has 2 variables\n",
    "#not su\n",
    "print('waterpoint_type' ,len(training_df['waterpoint_type'].unique()))\n",
    "print(training_df['waterpoint_type'].value_counts())\n",
    "print('----------------------------------------------')\n",
    "print('waterpoint_type_group:' ,len(training_df['waterpoint_type_group'].unique()))\n",
    "print(training_df['waterpoint_type_group'].value_counts())"
   ]
  },
  {
   "cell_type": "code",
   "execution_count": 92,
   "metadata": {},
   "outputs": [],
   "source": [
    "#columns to keep for a cleaner dataset. Dropped columns that either had redundant data, or many null/0 values.\n",
    "\n",
    "keep_columns = ['status_group','amount_tsh','date_recorded','funder','installer','longitude','latitude','wpt_name',\n",
    "                'basin','region_code','district_code','recorded_by','scheme_management','extraction_type','management',\n",
    "                'payment','water_quality','quantity','source','waterpoint_type']\n",
    "\n",
    "df = training_df[keep_columns]"
   ]
  },
  {
   "cell_type": "code",
   "execution_count": 93,
   "metadata": {},
   "outputs": [
    {
     "name": "stdout",
     "output_type": "stream",
     "text": [
      "<class 'pandas.core.frame.DataFrame'>\n",
      "Int64Index: 59400 entries, 69572 to 26348\n",
      "Data columns (total 20 columns):\n",
      " #   Column             Non-Null Count  Dtype  \n",
      "---  ------             --------------  -----  \n",
      " 0   status_group       59400 non-null  object \n",
      " 1   amount_tsh         59400 non-null  float64\n",
      " 2   date_recorded      59400 non-null  object \n",
      " 3   funder             55765 non-null  object \n",
      " 4   installer          55745 non-null  object \n",
      " 5   longitude          59400 non-null  float64\n",
      " 6   latitude           59400 non-null  float64\n",
      " 7   wpt_name           59400 non-null  object \n",
      " 8   basin              59400 non-null  object \n",
      " 9   region_code        59400 non-null  int64  \n",
      " 10  district_code      59400 non-null  int64  \n",
      " 11  recorded_by        59400 non-null  object \n",
      " 12  scheme_management  55523 non-null  object \n",
      " 13  extraction_type    59400 non-null  object \n",
      " 14  management         59400 non-null  object \n",
      " 15  payment            59400 non-null  object \n",
      " 16  water_quality      59400 non-null  object \n",
      " 17  quantity           59400 non-null  object \n",
      " 18  source             59400 non-null  object \n",
      " 19  waterpoint_type    59400 non-null  object \n",
      "dtypes: float64(3), int64(2), object(15)\n",
      "memory usage: 9.5+ MB\n"
     ]
    }
   ],
   "source": [
    "#only 20 coumns now\n",
    "df.info()"
   ]
  },
  {
   "cell_type": "code",
   "execution_count": 94,
   "metadata": {},
   "outputs": [
    {
     "data": {
      "text/plain": [
       "status_group            0\n",
       "amount_tsh              0\n",
       "date_recorded           0\n",
       "funder               3635\n",
       "installer            3655\n",
       "longitude               0\n",
       "latitude                0\n",
       "wpt_name                0\n",
       "basin                   0\n",
       "region_code             0\n",
       "district_code           0\n",
       "recorded_by             0\n",
       "scheme_management    3877\n",
       "extraction_type         0\n",
       "management              0\n",
       "payment                 0\n",
       "water_quality           0\n",
       "quantity                0\n",
       "source                  0\n",
       "waterpoint_type         0\n",
       "dtype: int64"
      ]
     },
     "execution_count": 94,
     "metadata": {},
     "output_type": "execute_result"
    }
   ],
   "source": [
    "#These columns still have some null values to deal with.\n",
    "df.isna().sum()"
   ]
  },
  {
   "cell_type": "code",
   "execution_count": 97,
   "metadata": {},
   "outputs": [],
   "source": [
    "#drop the null values in the dataset\n",
    "df.dropna(axis = 0, inplace = True)"
   ]
  },
  {
   "cell_type": "code",
   "execution_count": 98,
   "metadata": {},
   "outputs": [
    {
     "name": "stdout",
     "output_type": "stream",
     "text": [
      "<class 'pandas.core.frame.DataFrame'>\n",
      "Int64Index: 51880 entries, 69572 to 26348\n",
      "Data columns (total 20 columns):\n",
      " #   Column             Non-Null Count  Dtype  \n",
      "---  ------             --------------  -----  \n",
      " 0   status_group       51880 non-null  object \n",
      " 1   amount_tsh         51880 non-null  float64\n",
      " 2   date_recorded      51880 non-null  object \n",
      " 3   funder             51880 non-null  object \n",
      " 4   installer          51880 non-null  object \n",
      " 5   longitude          51880 non-null  float64\n",
      " 6   latitude           51880 non-null  float64\n",
      " 7   wpt_name           51880 non-null  object \n",
      " 8   basin              51880 non-null  object \n",
      " 9   region_code        51880 non-null  int64  \n",
      " 10  district_code      51880 non-null  int64  \n",
      " 11  recorded_by        51880 non-null  object \n",
      " 12  scheme_management  51880 non-null  object \n",
      " 13  extraction_type    51880 non-null  object \n",
      " 14  management         51880 non-null  object \n",
      " 15  payment            51880 non-null  object \n",
      " 16  water_quality      51880 non-null  object \n",
      " 17  quantity           51880 non-null  object \n",
      " 18  source             51880 non-null  object \n",
      " 19  waterpoint_type    51880 non-null  object \n",
      "dtypes: float64(3), int64(2), object(15)\n",
      "memory usage: 8.3+ MB\n"
     ]
    }
   ],
   "source": [
    "df.info()"
   ]
  },
  {
   "cell_type": "code",
   "execution_count": 99,
   "metadata": {},
   "outputs": [
    {
     "name": "stdout",
     "output_type": "stream",
     "text": [
      "Count of zeros in column in status_group  is :  0\n",
      "Count of zeros in column in amount_tsh  is :  35168\n",
      "Count of zeros in column in date_recorded  is :  0\n",
      "Count of zeros in column in funder  is :  0\n",
      "Count of zeros in column in installer  is :  0\n",
      "Count of zeros in column in longitude  is :  1671\n",
      "Count of zeros in column in latitude  is :  0\n",
      "Count of zeros in column in wpt_name  is :  0\n",
      "Count of zeros in column in basin  is :  0\n",
      "Count of zeros in column in region_code  is :  0\n",
      "Count of zeros in column in district_code  is :  23\n",
      "Count of zeros in column in recorded_by  is :  0\n",
      "Count of zeros in column in scheme_management  is :  0\n",
      "Count of zeros in column in extraction_type  is :  0\n",
      "Count of zeros in column in management  is :  0\n",
      "Count of zeros in column in payment  is :  0\n",
      "Count of zeros in column in water_quality  is :  0\n",
      "Count of zeros in column in quantity  is :  0\n",
      "Count of zeros in column in source  is :  0\n",
      "Count of zeros in column in waterpoint_type  is :  0\n"
     ]
    }
   ],
   "source": [
    "#look at how many 0's in remaining columns \n",
    "for column_name in df.columns:\n",
    "    column = df[column_name]\n",
    "    # Get the count of Zeros in column \n",
    "    count = (column == 0).sum()\n",
    "    print('Count of zeros in column in', column_name, ' is : ', count)"
   ]
  },
  {
   "cell_type": "code",
   "execution_count": 100,
   "metadata": {},
   "outputs": [
    {
     "data": {
      "text/html": [
       "<div>\n",
       "<style scoped>\n",
       "    .dataframe tbody tr th:only-of-type {\n",
       "        vertical-align: middle;\n",
       "    }\n",
       "\n",
       "    .dataframe tbody tr th {\n",
       "        vertical-align: top;\n",
       "    }\n",
       "\n",
       "    .dataframe thead th {\n",
       "        text-align: right;\n",
       "    }\n",
       "</style>\n",
       "<table border=\"1\" class=\"dataframe\">\n",
       "  <thead>\n",
       "    <tr style=\"text-align: right;\">\n",
       "      <th></th>\n",
       "      <th>amount_tsh</th>\n",
       "      <th>longitude</th>\n",
       "      <th>latitude</th>\n",
       "      <th>region_code</th>\n",
       "      <th>district_code</th>\n",
       "    </tr>\n",
       "  </thead>\n",
       "  <tbody>\n",
       "    <tr>\n",
       "      <th>count</th>\n",
       "      <td>51880.000000</td>\n",
       "      <td>51880.000000</td>\n",
       "      <td>5.188000e+04</td>\n",
       "      <td>51880.000000</td>\n",
       "      <td>51880.000000</td>\n",
       "    </tr>\n",
       "    <tr>\n",
       "      <th>mean</th>\n",
       "      <td>344.907992</td>\n",
       "      <td>34.067045</td>\n",
       "      <td>-5.633394e+00</td>\n",
       "      <td>14.833308</td>\n",
       "      <td>5.650173</td>\n",
       "    </tr>\n",
       "    <tr>\n",
       "      <th>std</th>\n",
       "      <td>2802.632595</td>\n",
       "      <td>6.740621</td>\n",
       "      <td>2.930362e+00</td>\n",
       "      <td>17.086912</td>\n",
       "      <td>9.548364</td>\n",
       "    </tr>\n",
       "    <tr>\n",
       "      <th>min</th>\n",
       "      <td>0.000000</td>\n",
       "      <td>0.000000</td>\n",
       "      <td>-1.164944e+01</td>\n",
       "      <td>1.000000</td>\n",
       "      <td>0.000000</td>\n",
       "    </tr>\n",
       "    <tr>\n",
       "      <th>25%</th>\n",
       "      <td>0.000000</td>\n",
       "      <td>33.069757</td>\n",
       "      <td>-8.135600e+00</td>\n",
       "      <td>5.000000</td>\n",
       "      <td>2.000000</td>\n",
       "    </tr>\n",
       "    <tr>\n",
       "      <th>50%</th>\n",
       "      <td>0.000000</td>\n",
       "      <td>35.080114</td>\n",
       "      <td>-4.934010e+00</td>\n",
       "      <td>12.000000</td>\n",
       "      <td>3.000000</td>\n",
       "    </tr>\n",
       "    <tr>\n",
       "      <th>75%</th>\n",
       "      <td>30.000000</td>\n",
       "      <td>37.324569</td>\n",
       "      <td>-3.311001e+00</td>\n",
       "      <td>17.000000</td>\n",
       "      <td>5.000000</td>\n",
       "    </tr>\n",
       "    <tr>\n",
       "      <th>max</th>\n",
       "      <td>250000.000000</td>\n",
       "      <td>40.323402</td>\n",
       "      <td>-2.000000e-08</td>\n",
       "      <td>99.000000</td>\n",
       "      <td>80.000000</td>\n",
       "    </tr>\n",
       "  </tbody>\n",
       "</table>\n",
       "</div>"
      ],
      "text/plain": [
       "          amount_tsh     longitude      latitude   region_code  district_code\n",
       "count   51880.000000  51880.000000  5.188000e+04  51880.000000   51880.000000\n",
       "mean      344.907992     34.067045 -5.633394e+00     14.833308       5.650173\n",
       "std      2802.632595      6.740621  2.930362e+00     17.086912       9.548364\n",
       "min         0.000000      0.000000 -1.164944e+01      1.000000       0.000000\n",
       "25%         0.000000     33.069757 -8.135600e+00      5.000000       2.000000\n",
       "50%         0.000000     35.080114 -4.934010e+00     12.000000       3.000000\n",
       "75%        30.000000     37.324569 -3.311001e+00     17.000000       5.000000\n",
       "max    250000.000000     40.323402 -2.000000e-08     99.000000      80.000000"
      ]
     },
     "execution_count": 100,
     "metadata": {},
     "output_type": "execute_result"
    }
   ],
   "source": [
    "df.describe()"
   ]
  },
  {
   "cell_type": "code",
   "execution_count": 105,
   "metadata": {},
   "outputs": [
    {
     "data": {
      "image/png": "[encoded data removed]",
      "text/plain": [
       "<Figure size 432x288 with 1 Axes>"
      ]
     },
     "metadata": {
      "needs_background": "light"
     },
     "output_type": "display_data"
    }
   ],
   "source": [
    "#the data is heavily skewed, going to use the median \n",
    "fig, ax = plt.subplots()\n",
    "ax.hist(df['amount_tsh'])\n",
    "plt.show()"
   ]
  },
  {
   "cell_type": "code",
   "execution_count": 106,
   "metadata": {},
   "outputs": [
    {
     "data": {
      "image/png": "[encoded data removed]",
      "text/plain": [
       "<Figure size 432x288 with 1 Axes>"
      ]
     },
     "metadata": {
      "needs_background": "light"
     },
     "output_type": "display_data"
    }
   ],
   "source": [
    "#heavily skewed data, going to input the median for missing values.\n",
    "fig, ax = plt.subplots()\n",
    "ax.hist(df['longitude'])\n",
    "plt.show()"
   ]
  },
  {
   "cell_type": "markdown",
   "metadata": {},
   "source": [
    "# Data Wrangling "
   ]
  },
  {
   "cell_type": "code",
   "execution_count": null,
   "metadata": {},
   "outputs": [],
   "source": []
  }
 ],
 "metadata": {
  "kernelspec": {
   "display_name": "Python 3",
   "language": "python",
   "name": "python3"
  },
  "language_info": {
   "codemirror_mode": {
    "name": "ipython",
    "version": 3
   },
   "file_extension": ".py",
   "mimetype": "text/x-python",
   "name": "python",
   "nbconvert_exporter": "python",
   "pygments_lexer": "ipython3",
   "version": "3.8.5"
  }
 },
 "nbformat": 4,
 "nbformat_minor": 4
}
