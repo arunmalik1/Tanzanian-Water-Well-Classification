{
 "cells": [
  {
   "cell_type": "code",
   "execution_count": 1,
   "metadata": {},
   "outputs": [],
   "source": [
    "#Build a classifier to predict the condition of a water well,  \n",
    "#The stakeholder is the Tanzanian government that wants to see what determines if a well if function or not "
   ]
  },
  {
   "cell_type": "code",
   "execution_count": 2,
   "metadata": {},
   "outputs": [],
   "source": [
    "#Loading packages \n",
    "\n",
    "import pandas as pd\n",
    "import numpy as np\n",
    "\n",
    "import seaborn as sns\n",
    "import matplotlib.pyplot as plt \n",
    "\n",
    "from imblearn.pipeline import Pipeline\n",
    "from imblearn.under_sampling import RandomUnderSampler\n",
    "from imblearn.over_sampling import SMOTE, ADASYN\n",
    "\n",
    "from sklearn.model_selection import train_test_split, GridSearchCV\n",
    "from sklearn.linear_model import LogisticRegression\n",
    "from sklearn.tree import DecisionTreeClassifier\n",
    "from sklearn.neighbors import KNeighborsClassifier\n",
    "from sklearn.ensemble import BaggingClassifier, RandomForestClassifier\n",
    "from xgboost import XGBClassifier\n",
    "\n",
    "\n",
    "from sklearn.metrics import confusion_matrix\n",
    "from sklearn.metrics import classification_report\n",
    "from sklearn.metrics import multilabel_confusion_matrix\n",
    "from sklearn.metrics import accuracy_score, roc_curve, auc\n",
    "from sklearn.metrics import precision_score, recall_score, accuracy_score, f1_score\n",
    "\n",
    "from sklearn.impute import SimpleImputer\n",
    "from sklearn.preprocessing import LabelEncoder\n",
    "from sklearn.preprocessing import OrdinalEncoder\n",
    "from sklearn.preprocessing import OneHotEncoder\n",
    "from sklearn.preprocessing import StandardScaler, MaxAbsScaler\n",
    "from sklearn.preprocessing import MinMaxScaler\n",
    "from sklearn.preprocessing import MaxAbsScaler\n",
    "from sklearn.compose import ColumnTransformer\n",
    "\n",
    "import pickle\n",
    "\n",
    "import warnings\n",
    "warnings.filterwarnings('ignore')"
   ]
  },
  {
   "cell_type": "code",
   "execution_count": 3,
   "metadata": {},
   "outputs": [],
   "source": [
    "#read in the test values data and set id as the index\n",
    "test_value_df = pd.read_csv(\"/Users/arun/Desktop/Flatiron/Projects/Phase3_Project/Tanzanian-Water-Well-Classification/Raw_Data/Test_set_values.csv\", index_col = 0)"
   ]
  },
  {
   "cell_type": "code",
   "execution_count": 4,
   "metadata": {},
   "outputs": [],
   "source": [
    "#read in the training values data and set id as the index\n",
    "training_value_df = pd.read_csv('/Users/arun/Desktop/Flatiron/Projects/Phase3_Project/Tanzanian-Water-Well-Classification/Raw_Data/Training_set_values.csv', index_col = 0)\n",
    "\n",
    "#read in the training labels data and set id as the index\n",
    "training_label_df = pd.read_csv('/Users/arun/Desktop/Flatiron/Projects/Phase3_Project/Tanzanian-Water-Well-Classification/Raw_Data/Training_set_labels.csv', index_col = 0)\n",
    "\n",
    "#combine the training datasets\n",
    "training_df = pd.concat([training_value_df, training_label_df], axis=1)"
   ]
  },
  {
   "cell_type": "markdown",
   "metadata": {},
   "source": [
    "# EDA"
   ]
  },
  {
   "cell_type": "code",
   "execution_count": 5,
   "metadata": {},
   "outputs": [
    {
     "data": {
      "text/html": [
       "<div>\n",
       "<style scoped>\n",
       "    .dataframe tbody tr th:only-of-type {\n",
       "        vertical-align: middle;\n",
       "    }\n",
       "\n",
       "    .dataframe tbody tr th {\n",
       "        vertical-align: top;\n",
       "    }\n",
       "\n",
       "    .dataframe thead th {\n",
       "        text-align: right;\n",
       "    }\n",
       "</style>\n",
       "<table border=\"1\" class=\"dataframe\">\n",
       "  <thead>\n",
       "    <tr style=\"text-align: right;\">\n",
       "      <th></th>\n",
       "      <th>amount_tsh</th>\n",
       "      <th>gps_height</th>\n",
       "      <th>longitude</th>\n",
       "      <th>latitude</th>\n",
       "      <th>num_private</th>\n",
       "      <th>region_code</th>\n",
       "      <th>district_code</th>\n",
       "      <th>population</th>\n",
       "      <th>construction_year</th>\n",
       "    </tr>\n",
       "  </thead>\n",
       "  <tbody>\n",
       "    <tr>\n",
       "      <th>count</th>\n",
       "      <td>59400.000000</td>\n",
       "      <td>59400.000000</td>\n",
       "      <td>59400.000000</td>\n",
       "      <td>5.940000e+04</td>\n",
       "      <td>59400.000000</td>\n",
       "      <td>59400.000000</td>\n",
       "      <td>59400.000000</td>\n",
       "      <td>59400.000000</td>\n",
       "      <td>59400.000000</td>\n",
       "    </tr>\n",
       "    <tr>\n",
       "      <th>mean</th>\n",
       "      <td>317.650385</td>\n",
       "      <td>668.297239</td>\n",
       "      <td>34.077427</td>\n",
       "      <td>-5.706033e+00</td>\n",
       "      <td>0.474141</td>\n",
       "      <td>15.297003</td>\n",
       "      <td>5.629747</td>\n",
       "      <td>179.909983</td>\n",
       "      <td>1300.652475</td>\n",
       "    </tr>\n",
       "    <tr>\n",
       "      <th>std</th>\n",
       "      <td>2997.574558</td>\n",
       "      <td>693.116350</td>\n",
       "      <td>6.567432</td>\n",
       "      <td>2.946019e+00</td>\n",
       "      <td>12.236230</td>\n",
       "      <td>17.587406</td>\n",
       "      <td>9.633649</td>\n",
       "      <td>471.482176</td>\n",
       "      <td>951.620547</td>\n",
       "    </tr>\n",
       "    <tr>\n",
       "      <th>min</th>\n",
       "      <td>0.000000</td>\n",
       "      <td>-90.000000</td>\n",
       "      <td>0.000000</td>\n",
       "      <td>-1.164944e+01</td>\n",
       "      <td>0.000000</td>\n",
       "      <td>1.000000</td>\n",
       "      <td>0.000000</td>\n",
       "      <td>0.000000</td>\n",
       "      <td>0.000000</td>\n",
       "    </tr>\n",
       "    <tr>\n",
       "      <th>25%</th>\n",
       "      <td>0.000000</td>\n",
       "      <td>0.000000</td>\n",
       "      <td>33.090347</td>\n",
       "      <td>-8.540621e+00</td>\n",
       "      <td>0.000000</td>\n",
       "      <td>5.000000</td>\n",
       "      <td>2.000000</td>\n",
       "      <td>0.000000</td>\n",
       "      <td>0.000000</td>\n",
       "    </tr>\n",
       "    <tr>\n",
       "      <th>50%</th>\n",
       "      <td>0.000000</td>\n",
       "      <td>369.000000</td>\n",
       "      <td>34.908743</td>\n",
       "      <td>-5.021597e+00</td>\n",
       "      <td>0.000000</td>\n",
       "      <td>12.000000</td>\n",
       "      <td>3.000000</td>\n",
       "      <td>25.000000</td>\n",
       "      <td>1986.000000</td>\n",
       "    </tr>\n",
       "    <tr>\n",
       "      <th>75%</th>\n",
       "      <td>20.000000</td>\n",
       "      <td>1319.250000</td>\n",
       "      <td>37.178387</td>\n",
       "      <td>-3.326156e+00</td>\n",
       "      <td>0.000000</td>\n",
       "      <td>17.000000</td>\n",
       "      <td>5.000000</td>\n",
       "      <td>215.000000</td>\n",
       "      <td>2004.000000</td>\n",
       "    </tr>\n",
       "    <tr>\n",
       "      <th>max</th>\n",
       "      <td>350000.000000</td>\n",
       "      <td>2770.000000</td>\n",
       "      <td>40.345193</td>\n",
       "      <td>-2.000000e-08</td>\n",
       "      <td>1776.000000</td>\n",
       "      <td>99.000000</td>\n",
       "      <td>80.000000</td>\n",
       "      <td>30500.000000</td>\n",
       "      <td>2013.000000</td>\n",
       "    </tr>\n",
       "  </tbody>\n",
       "</table>\n",
       "</div>"
      ],
      "text/plain": [
       "          amount_tsh    gps_height     longitude      latitude   num_private  \\\n",
       "count   59400.000000  59400.000000  59400.000000  5.940000e+04  59400.000000   \n",
       "mean      317.650385    668.297239     34.077427 -5.706033e+00      0.474141   \n",
       "std      2997.574558    693.116350      6.567432  2.946019e+00     12.236230   \n",
       "min         0.000000    -90.000000      0.000000 -1.164944e+01      0.000000   \n",
       "25%         0.000000      0.000000     33.090347 -8.540621e+00      0.000000   \n",
       "50%         0.000000    369.000000     34.908743 -5.021597e+00      0.000000   \n",
       "75%        20.000000   1319.250000     37.178387 -3.326156e+00      0.000000   \n",
       "max    350000.000000   2770.000000     40.345193 -2.000000e-08   1776.000000   \n",
       "\n",
       "        region_code  district_code    population  construction_year  \n",
       "count  59400.000000   59400.000000  59400.000000       59400.000000  \n",
       "mean      15.297003       5.629747    179.909983        1300.652475  \n",
       "std       17.587406       9.633649    471.482176         951.620547  \n",
       "min        1.000000       0.000000      0.000000           0.000000  \n",
       "25%        5.000000       2.000000      0.000000           0.000000  \n",
       "50%       12.000000       3.000000     25.000000        1986.000000  \n",
       "75%       17.000000       5.000000    215.000000        2004.000000  \n",
       "max       99.000000      80.000000  30500.000000        2013.000000  "
      ]
     },
     "execution_count": 5,
     "metadata": {},
     "output_type": "execute_result"
    }
   ],
   "source": [
    "#big range in values for construction year, population\n",
    "#possible outliers in amount_tsh and big range in population and construction year.\n",
    "#Multiple columns have 0 as a value.\n",
    "\n",
    "training_df.describe()"
   ]
  },
  {
   "cell_type": "code",
   "execution_count": 6,
   "metadata": {},
   "outputs": [
    {
     "name": "stdout",
     "output_type": "stream",
     "text": [
      "<class 'pandas.core.frame.DataFrame'>\n",
      "Int64Index: 59400 entries, 69572 to 26348\n",
      "Data columns (total 40 columns):\n",
      " #   Column                 Non-Null Count  Dtype  \n",
      "---  ------                 --------------  -----  \n",
      " 0   amount_tsh             59400 non-null  float64\n",
      " 1   date_recorded          59400 non-null  object \n",
      " 2   funder                 55765 non-null  object \n",
      " 3   gps_height             59400 non-null  int64  \n",
      " 4   installer              55745 non-null  object \n",
      " 5   longitude              59400 non-null  float64\n",
      " 6   latitude               59400 non-null  float64\n",
      " 7   wpt_name               59400 non-null  object \n",
      " 8   num_private            59400 non-null  int64  \n",
      " 9   basin                  59400 non-null  object \n",
      " 10  subvillage             59029 non-null  object \n",
      " 11  region                 59400 non-null  object \n",
      " 12  region_code            59400 non-null  int64  \n",
      " 13  district_code          59400 non-null  int64  \n",
      " 14  lga                    59400 non-null  object \n",
      " 15  ward                   59400 non-null  object \n",
      " 16  population             59400 non-null  int64  \n",
      " 17  public_meeting         56066 non-null  object \n",
      " 18  recorded_by            59400 non-null  object \n",
      " 19  scheme_management      55523 non-null  object \n",
      " 20  scheme_name            31234 non-null  object \n",
      " 21  permit                 56344 non-null  object \n",
      " 22  construction_year      59400 non-null  int64  \n",
      " 23  extraction_type        59400 non-null  object \n",
      " 24  extraction_type_group  59400 non-null  object \n",
      " 25  extraction_type_class  59400 non-null  object \n",
      " 26  management             59400 non-null  object \n",
      " 27  management_group       59400 non-null  object \n",
      " 28  payment                59400 non-null  object \n",
      " 29  payment_type           59400 non-null  object \n",
      " 30  water_quality          59400 non-null  object \n",
      " 31  quality_group          59400 non-null  object \n",
      " 32  quantity               59400 non-null  object \n",
      " 33  quantity_group         59400 non-null  object \n",
      " 34  source                 59400 non-null  object \n",
      " 35  source_type            59400 non-null  object \n",
      " 36  source_class           59400 non-null  object \n",
      " 37  waterpoint_type        59400 non-null  object \n",
      " 38  waterpoint_type_group  59400 non-null  object \n",
      " 39  status_group           59400 non-null  object \n",
      "dtypes: float64(3), int64(6), object(31)\n",
      "memory usage: 18.6+ MB\n"
     ]
    }
   ],
   "source": [
    "training_df.info()"
   ]
  },
  {
   "cell_type": "code",
   "execution_count": 7,
   "metadata": {},
   "outputs": [
    {
     "data": {
      "text/plain": [
       "amount_tsh                   0\n",
       "date_recorded                0\n",
       "funder                    3635\n",
       "gps_height                   0\n",
       "installer                 3655\n",
       "longitude                    0\n",
       "latitude                     0\n",
       "wpt_name                     0\n",
       "num_private                  0\n",
       "basin                        0\n",
       "subvillage                 371\n",
       "region                       0\n",
       "region_code                  0\n",
       "district_code                0\n",
       "lga                          0\n",
       "ward                         0\n",
       "population                   0\n",
       "public_meeting            3334\n",
       "recorded_by                  0\n",
       "scheme_management         3877\n",
       "scheme_name              28166\n",
       "permit                    3056\n",
       "construction_year            0\n",
       "extraction_type              0\n",
       "extraction_type_group        0\n",
       "extraction_type_class        0\n",
       "management                   0\n",
       "management_group             0\n",
       "payment                      0\n",
       "payment_type                 0\n",
       "water_quality                0\n",
       "quality_group                0\n",
       "quantity                     0\n",
       "quantity_group               0\n",
       "source                       0\n",
       "source_type                  0\n",
       "source_class                 0\n",
       "waterpoint_type              0\n",
       "waterpoint_type_group        0\n",
       "status_group                 0\n",
       "dtype: int64"
      ]
     },
     "execution_count": 7,
     "metadata": {},
     "output_type": "execute_result"
    }
   ],
   "source": [
    "#look for null values in the dataset\n",
    "training_df.isna().sum()"
   ]
  },
  {
   "cell_type": "code",
   "execution_count": 8,
   "metadata": {},
   "outputs": [
    {
     "name": "stdout",
     "output_type": "stream",
     "text": [
      "Count of zeros in column in amount_tsh  is :  41639\n",
      "Count of zeros in column in date_recorded  is :  0\n",
      "Count of zeros in column in funder  is :  0\n",
      "Count of zeros in column in gps_height  is :  20438\n",
      "Count of zeros in column in installer  is :  0\n",
      "Count of zeros in column in longitude  is :  1812\n",
      "Count of zeros in column in latitude  is :  0\n",
      "Count of zeros in column in wpt_name  is :  0\n",
      "Count of zeros in column in num_private  is :  58643\n",
      "Count of zeros in column in basin  is :  0\n",
      "Count of zeros in column in subvillage  is :  0\n",
      "Count of zeros in column in region  is :  0\n",
      "Count of zeros in column in region_code  is :  0\n",
      "Count of zeros in column in district_code  is :  23\n",
      "Count of zeros in column in lga  is :  0\n",
      "Count of zeros in column in ward  is :  0\n",
      "Count of zeros in column in population  is :  21381\n",
      "Count of zeros in column in public_meeting  is :  5055\n",
      "Count of zeros in column in recorded_by  is :  0\n",
      "Count of zeros in column in scheme_management  is :  0\n",
      "Count of zeros in column in scheme_name  is :  0\n",
      "Count of zeros in column in permit  is :  17492\n",
      "Count of zeros in column in construction_year  is :  20709\n",
      "Count of zeros in column in extraction_type  is :  0\n",
      "Count of zeros in column in extraction_type_group  is :  0\n",
      "Count of zeros in column in extraction_type_class  is :  0\n",
      "Count of zeros in column in management  is :  0\n",
      "Count of zeros in column in management_group  is :  0\n",
      "Count of zeros in column in payment  is :  0\n",
      "Count of zeros in column in payment_type  is :  0\n",
      "Count of zeros in column in water_quality  is :  0\n",
      "Count of zeros in column in quality_group  is :  0\n",
      "Count of zeros in column in quantity  is :  0\n",
      "Count of zeros in column in quantity_group  is :  0\n",
      "Count of zeros in column in source  is :  0\n",
      "Count of zeros in column in source_type  is :  0\n",
      "Count of zeros in column in source_class  is :  0\n",
      "Count of zeros in column in waterpoint_type  is :  0\n",
      "Count of zeros in column in waterpoint_type_group  is :  0\n",
      "Count of zeros in column in status_group  is :  0\n"
     ]
    }
   ],
   "source": [
    "#Count number of zeros in all columns of Dataframe\n",
    "#significant amount of zeros in multiple columns.\n",
    "\n",
    "#amount_tsh will need some sort of imputing \n",
    "#construction year has no NA values but does have over 20K zero values.\n",
    "\n",
    "for column_name in training_df.columns:\n",
    "    column = training_df[column_name]\n",
    "    # Get the count of Zeros in column \n",
    "    count = (column == 0).sum()\n",
    "    print('Count of zeros in column in', column_name, ' is : ', count)"
   ]
  },
  {
   "cell_type": "code",
   "execution_count": 9,
   "metadata": {},
   "outputs": [
    {
     "name": "stdout",
     "output_type": "stream",
     "text": [
      "functional                 0.543081\n",
      "non functional             0.384242\n",
      "functional needs repair    0.072677\n",
      "Name: status_group, dtype: float64\n"
     ]
    }
   ],
   "source": [
    "print(training_df['status_group'].value_counts(normalize=True))\n"
   ]
  },
  {
   "cell_type": "code",
   "execution_count": 10,
   "metadata": {
    "scrolled": true
   },
   "outputs": [
    {
     "name": "stdout",
     "output_type": "stream",
     "text": [
      "region count: 21\n",
      "region code count: 27\n",
      "district code count: 20\n"
     ]
    }
   ],
   "source": [
    "#There are 6 different variables for Geographic location not including Long/Lat.\n",
    "\n",
    "print('region count:' ,len(training_df['region'].unique()))\n",
    "\n",
    "#region code count has more categories then region count\n",
    "print('region code count:', len(training_df['region_code'].unique()))\n",
    "\n",
    "#district code has 23 0 values but still might be better to use because of numerical values\n",
    "print('district code count:', len(training_df['district_code'].unique()))"
   ]
  },
  {
   "cell_type": "code",
   "execution_count": 11,
   "metadata": {},
   "outputs": [
    {
     "name": "stdout",
     "output_type": "stream",
     "text": [
      "scheme_management: 13\n",
      "VWC                 36793\n",
      "WUG                  5206\n",
      "Water authority      3153\n",
      "WUA                  2883\n",
      "Water Board          2748\n",
      "Parastatal           1680\n",
      "Private operator     1063\n",
      "Company              1061\n",
      "Other                 766\n",
      "SWC                    97\n",
      "Trust                  72\n",
      "None                    1\n",
      "Name: scheme_management, dtype: int64\n",
      "----------------------------------------------\n",
      "scheme_name: 2697\n",
      "K                               682\n",
      "None                            644\n",
      "Borehole                        546\n",
      "Chalinze wate                   405\n",
      "M                               400\n",
      "                               ... \n",
      "improved                          1\n",
      "Jaira borehole                    1\n",
      "Igongolo gravity water sch        1\n",
      "Nkoarua gravity water supply      1\n",
      "Sobodo Borehole Scheme            1\n",
      "Name: scheme_name, Length: 2696, dtype: int64\n"
     ]
    }
   ],
   "source": [
    "#scheme_management and scheme_name are data for who operates the waterpoint\n",
    "#Scheme_name has alot more None values\n",
    "\n",
    "print('scheme_management:' ,len(training_df['scheme_management'].unique()))\n",
    "print(training_df['scheme_management'].value_counts())\n",
    "\n",
    "print('----------------------------------------------')\n",
    "\n",
    "print('scheme_name:' ,len(training_df['scheme_name'].unique()))\n",
    "print(training_df['scheme_name'].value_counts())"
   ]
  },
  {
   "cell_type": "code",
   "execution_count": 12,
   "metadata": {},
   "outputs": [
    {
     "name": "stdout",
     "output_type": "stream",
     "text": [
      "extraction_type: 18\n",
      "gravity                      0.450842\n",
      "nira/tanira                  0.137273\n",
      "other                        0.108249\n",
      "submersible                  0.080202\n",
      "swn 80                       0.061785\n",
      "mono                         0.048232\n",
      "india mark ii                0.040404\n",
      "afridev                      0.029798\n",
      "ksb                          0.023822\n",
      "other - rope pump            0.007593\n",
      "other - swn 81               0.003855\n",
      "windmill                     0.001970\n",
      "india mark iii               0.001650\n",
      "cemo                         0.001515\n",
      "other - play pump            0.001431\n",
      "walimi                       0.000808\n",
      "climax                       0.000539\n",
      "other - mkulima/shinyanga    0.000034\n",
      "Name: extraction_type, dtype: float64\n",
      "----------------------------------------------\n",
      "extraction_type_group: 13\n",
      "gravity            26780\n",
      "nira/tanira         8154\n",
      "other               6430\n",
      "submersible         6179\n",
      "swn 80              3670\n",
      "mono                2865\n",
      "india mark ii       2400\n",
      "afridev             1770\n",
      "rope pump            451\n",
      "other handpump       364\n",
      "other motorpump      122\n",
      "wind-powered         117\n",
      "india mark iii        98\n",
      "Name: extraction_type_group, dtype: int64\n",
      "----------------------------------------------\n",
      "extraction_type_class: 7\n",
      "gravity         26780\n",
      "handpump        16456\n",
      "other            6430\n",
      "submersible      6179\n",
      "motorpump        2987\n",
      "rope pump         451\n",
      "wind-powered      117\n",
      "Name: extraction_type_class, dtype: int64\n"
     ]
    }
   ],
   "source": [
    "#extraction_type, extraction_type_group and extraction_type_class seem very similar as well\n",
    "#They all have no null values and don't contain 0 as a value \n",
    "#going to use just extraction_type since it has the most categories\n",
    "\n",
    "print('extraction_type:' ,len(training_df['extraction_type'].unique()))\n",
    "print(training_df['extraction_type'].value_counts(normalize=True))\n",
    "print('----------------------------------------------')\n",
    "print('extraction_type_group:' ,len(training_df['extraction_type_group'].unique()))\n",
    "print(training_df['extraction_type_group'].value_counts())\n",
    "print('----------------------------------------------')\n",
    "print('extraction_type_class:' ,len(training_df['extraction_type_class'].unique()))\n",
    "print(training_df['extraction_type_class'].value_counts())"
   ]
  },
  {
   "cell_type": "code",
   "execution_count": 13,
   "metadata": {},
   "outputs": [
    {
     "name": "stdout",
     "output_type": "stream",
     "text": [
      "management: 12\n",
      "vwc                 40507\n",
      "wug                  6515\n",
      "water board          2933\n",
      "wua                  2535\n",
      "private operator     1971\n",
      "parastatal           1768\n",
      "water authority       904\n",
      "other                 844\n",
      "company               685\n",
      "unknown               561\n",
      "other - school         99\n",
      "trust                  78\n",
      "Name: management, dtype: int64\n",
      "----------------------------------------------\n",
      "management_group: 5\n",
      "user-group    52490\n",
      "commercial     3638\n",
      "parastatal     1768\n",
      "other           943\n",
      "unknown         561\n",
      "Name: management_group, dtype: int64\n"
     ]
    }
   ],
   "source": [
    "#how the waterpoint is managed also has similar data\n",
    "#going to use management\n",
    "\n",
    "print('management:' ,len(training_df['management'].unique()))\n",
    "print(training_df['management'].value_counts())\n",
    "print('----------------------------------------------')\n",
    "print('management_group:' ,len(training_df['management_group'].unique()))\n",
    "print(training_df['management_group'].value_counts())"
   ]
  },
  {
   "cell_type": "code",
   "execution_count": 14,
   "metadata": {},
   "outputs": [
    {
     "name": "stdout",
     "output_type": "stream",
     "text": [
      "payment: 7\n",
      "never pay                25348\n",
      "pay per bucket            8985\n",
      "pay monthly               8300\n",
      "unknown                   8157\n",
      "pay when scheme fails     3914\n",
      "pay annually              3642\n",
      "other                     1054\n",
      "Name: payment, dtype: int64\n",
      "--------------------------------------------------------\n",
      "payment_type: 7\n",
      "never pay     25348\n",
      "per bucket     8985\n",
      "monthly        8300\n",
      "unknown        8157\n",
      "on failure     3914\n",
      "annually       3642\n",
      "other          1054\n",
      "Name: payment_type, dtype: int64\n"
     ]
    }
   ],
   "source": [
    "#payment has 2 variables as well, seem identical\n",
    "\n",
    "print('payment:' ,len(training_df['payment'].unique()))\n",
    "print(training_df['payment'].value_counts())\n",
    "print('--------------------------------------------------------')\n",
    "print('payment_type:' ,len(training_df['payment_type'].unique()))\n",
    "print(training_df['payment_type'].value_counts())"
   ]
  },
  {
   "cell_type": "code",
   "execution_count": 15,
   "metadata": {},
   "outputs": [
    {
     "name": "stdout",
     "output_type": "stream",
     "text": [
      "water_quality: 8\n",
      "soft                  0.855522\n",
      "salty                 0.081751\n",
      "unknown               0.031582\n",
      "milky                 0.013535\n",
      "coloured              0.008249\n",
      "salty abandoned       0.005707\n",
      "fluoride              0.003367\n",
      "fluoride abandoned    0.000286\n",
      "Name: water_quality, dtype: float64\n",
      "----------------------------------------------\n",
      "quality_group: 6\n",
      "good        0.855522\n",
      "salty       0.087458\n",
      "unknown     0.031582\n",
      "milky       0.013535\n",
      "colored     0.008249\n",
      "fluoride    0.003653\n",
      "Name: quality_group, dtype: float64\n"
     ]
    }
   ],
   "source": [
    "#water quality also has 2 variables\n",
    "#going to use quality_group\n",
    "\n",
    "print('water_quality:' ,len(training_df['water_quality'].unique()))\n",
    "print(training_df['water_quality'].value_counts(normalize = True))\n",
    "print('----------------------------------------------')\n",
    "print('quality_group:' ,len(training_df['quality_group'].unique()))\n",
    "print(training_df['quality_group'].value_counts(normalize = True))"
   ]
  },
  {
   "cell_type": "code",
   "execution_count": 16,
   "metadata": {},
   "outputs": [
    {
     "name": "stdout",
     "output_type": "stream",
     "text": [
      "quantity: 5\n",
      "enough          0.558687\n",
      "insufficient    0.254697\n",
      "dry             0.105152\n",
      "seasonal        0.068182\n",
      "unknown         0.013283\n",
      "Name: quantity, dtype: float64\n",
      "----------------------------------------------\n",
      "quantity_group : 5\n",
      "enough          0.558687\n",
      "insufficient    0.254697\n",
      "dry             0.105152\n",
      "seasonal        0.068182\n",
      "unknown         0.013283\n",
      "Name: quantity_group, dtype: float64\n"
     ]
    }
   ],
   "source": [
    "#water quantity also has 2 variables\n",
    "#identical, will use quantity \n",
    "\n",
    "print('quantity:' ,len(training_df['quantity'].unique()))\n",
    "print(training_df['quantity'].value_counts(normalize = True))\n",
    "print('----------------------------------------------')\n",
    "print('quantity_group :' ,len(training_df['quantity_group'].unique()))\n",
    "print(training_df['quantity_group'].value_counts(normalize = True))"
   ]
  },
  {
   "cell_type": "code",
   "execution_count": 17,
   "metadata": {},
   "outputs": [
    {
     "name": "stdout",
     "output_type": "stream",
     "text": [
      "source: 10\n",
      "spring                  0.286549\n",
      "shallow well            0.283232\n",
      "machine dbh             0.186448\n",
      "river                   0.161818\n",
      "rainwater harvesting    0.038636\n",
      "hand dtw                0.014714\n",
      "lake                    0.012879\n",
      "dam                     0.011044\n",
      "other                   0.003569\n",
      "unknown                 0.001111\n",
      "Name: source, dtype: float64\n",
      "----------------------------------------------\n",
      "source_type: 7\n",
      "spring                  0.286549\n",
      "shallow well            0.283232\n",
      "borehole                0.201162\n",
      "river/lake              0.174697\n",
      "rainwater harvesting    0.038636\n",
      "dam                     0.011044\n",
      "other                   0.004680\n",
      "Name: source_type, dtype: float64\n",
      "----------------------------------------------\n",
      "source_class: 3\n",
      "groundwater    0.770943\n",
      "surface        0.224377\n",
      "unknown        0.004680\n",
      "Name: source_class, dtype: float64\n"
     ]
    }
   ],
   "source": [
    "#there are 3 varaibles for water source\n",
    "#going to use source, less unknowns and more granular categories\n",
    "\n",
    "print('source:' ,len(training_df['source'].unique()))\n",
    "print(training_df['source'].value_counts(normalize = True))\n",
    "print('----------------------------------------------')\n",
    "print('source_type:' ,len(training_df['source_type'].unique()))\n",
    "print(training_df['source_type'].value_counts(normalize = True))\n",
    "print('----------------------------------------------')\n",
    "print('source_class:' ,len(training_df['source_class'].unique()))\n",
    "print(training_df['source_class'].value_counts(normalize = True))"
   ]
  },
  {
   "cell_type": "code",
   "execution_count": 18,
   "metadata": {},
   "outputs": [
    {
     "name": "stdout",
     "output_type": "stream",
     "text": [
      "waterpoint_type 7\n",
      "communal standpipe             0.480168\n",
      "hand pump                      0.294411\n",
      "other                          0.107407\n",
      "communal standpipe multiple    0.102744\n",
      "improved spring                0.013199\n",
      "cattle trough                  0.001953\n",
      "dam                            0.000118\n",
      "Name: waterpoint_type, dtype: float64\n",
      "----------------------------------------------\n",
      "waterpoint_type_group: 6\n",
      "communal standpipe    0.582912\n",
      "hand pump             0.294411\n",
      "other                 0.107407\n",
      "improved spring       0.013199\n",
      "cattle trough         0.001953\n",
      "dam                   0.000118\n",
      "Name: waterpoint_type_group, dtype: float64\n"
     ]
    }
   ],
   "source": [
    "#waterpoint also has 2 variables\n",
    "#seems very redundant \n",
    "\n",
    "print('waterpoint_type' ,len(training_df['waterpoint_type'].unique()))\n",
    "print(training_df['waterpoint_type'].value_counts(normalize = True))\n",
    "print('----------------------------------------------')\n",
    "print('waterpoint_type_group:' ,len(training_df['waterpoint_type_group'].unique()))\n",
    "print(training_df['waterpoint_type_group'].value_counts(normalize = True))"
   ]
  },
  {
   "cell_type": "code",
   "execution_count": 19,
   "metadata": {},
   "outputs": [
    {
     "data": {
      "text/plain": [
       "dwe                   0.342517\n",
       "unknown               0.087297\n",
       "central government    0.038355\n",
       "government            0.035915\n",
       "community             0.032943\n",
       "danida                0.031526\n",
       "hesawa                0.027453\n",
       "rwe                   0.023733\n",
       "district council      0.023202\n",
       "kkkt                  0.017908\n",
       "Name: installer, dtype: float64"
      ]
     },
     "execution_count": 19,
     "metadata": {},
     "output_type": "execute_result"
    }
   ],
   "source": [
    "#this column has spelling errors and redundant data\n",
    "#for exmaple FIN WATER, FinW, Fini water, FINI WATER are all considered unique because python is case sensative\n",
    "#going to need to fix spelling mistakes, then transform them all to lowercase \n",
    "\n",
    "#since the column has 0 as a value, first replace 0 with unknown\n",
    "training_df['installer'].replace(to_replace = '0', value ='unknown' , inplace=True)\n",
    "\n",
    "#have to also fill NAN values with unknown\n",
    "training_df['installer'].fillna(value='unknown',inplace=True)\n",
    "\n",
    "#begin replacing misspelled values\n",
    "training_df['installer'].replace(to_replace = ('District Water Department', 'District water depar','Distric Water Department',\n",
    "                                               'dwe'), value ='district water department' , inplace=True)\n",
    "\n",
    "training_df['installer'].replace(to_replace = ('FinW','Fini water','FINI WATER'), value ='fini water' , inplace=True)\n",
    "\n",
    "training_df['installer'].replace(to_replace = 'JAICA', value ='jaica' , inplace=True)\n",
    "\n",
    "training_df['installer'].replace(to_replace = ('COUN', 'District COUNCIL', 'DISTRICT COUNCIL','District Counci', \n",
    "                                               'District Council','Council','Counc','District  Council','Distri'),\n",
    "                                                value ='District council' , inplace=True)\n",
    "\n",
    "training_df['installer'].replace(to_replace = ('RC CHURCH', 'RC Churc', 'RC','RC Ch','RC C', 'RC CH','RC church', \n",
    "                                               'RC CATHORIC',) , value ='RC Church' , inplace=True)\n",
    "\n",
    "training_df['installer'].replace(to_replace = ('Central Government','Tanzania Government','central government',\n",
    "                                            'Cental Government', 'Cebtral Government', 'Tanzanian Government',\n",
    "                                            'Tanzania government', 'Centra Government','CENTRAL GOVERNMENT', \n",
    "                                            'TANZANIAN GOVERNMENT','Central govt','Centr','Centra govt', \n",
    "                                            'government','GOVERNMENT', 'GOVER', 'GOVERNME', 'GOVERM','GOVERN','Gover',\n",
    "                                            'Gove','Governme','Governmen'),value ='Central government',inplace=True)\n",
    "\n",
    "training_df['installer'].replace(to_replace = ('World vision', 'World Division','World Vision'),\n",
    "                                                value ='world vision' , inplace=True)\n",
    "\n",
    "training_df['installer'].replace(to_replace = ('Unisef','UNICEF'),value ='Unicef' , inplace=True)\n",
    "training_df['installer'].replace(to_replace = 'DANID', value ='DANIDA' , inplace=True)\n",
    "\n",
    "training_df['installer'].replace(to_replace = ('Central Government','Tanzania Government','central government',\n",
    "                                               'Cental Government', 'Cebtral Government', 'Tanzanian Government',\n",
    "                                               'Tanzania government', 'Centra Government','CENTRAL GOVERNMENT', \n",
    "                                               'TANZANIAN GOVERNMENT','Central govt','Centr','Centra govt',\n",
    "                                               'government of tanzania','government','GOVERNMENT', 'GOVER', 'GOVERNME', \n",
    "                                               'GOVERM','GOVERN','Gover','Gove','Governme','Governmen'),\n",
    "                                                value ='Central government',inplace=True)\n",
    "\n",
    "training_df['installer'].replace(to_replace =('Commu','Communit','commu','COMMU', 'COMMUNITY') ,\n",
    "                                        value ='Community' , inplace=True)\n",
    "\n",
    "training_df['installer'].replace(to_replace = 'Hesawa' ,value ='HESAWA' , inplace=True)\n",
    "\n",
    "#now make all the values lower case. This looks much better.\n",
    "training_df['installer'] = training_df['installer'].apply(str.lower)\n",
    "\n",
    "\n",
    "#keeping only categories that have atleast 50 values \n",
    "keep = training_df['installer'].value_counts()[training_df['installer'].value_counts() > 50].index.values.tolist()\n",
    "\n",
    "training_df = training_df.loc[training_df['installer'].isin(keep)]\n",
    "\n",
    "training_df['installer'].value_counts(normalize=True).head(10)"
   ]
  },
  {
   "cell_type": "code",
   "execution_count": 20,
   "metadata": {},
   "outputs": [
    {
     "data": {
      "text/plain": [
       "government of tanzania    0.188205\n",
       "unknown                   0.093466\n",
       "danida                    0.065571\n",
       "hesawa                    0.046076\n",
       "rwssp                     0.028256\n",
       "kkkt                      0.026347\n",
       "world vision              0.022168\n",
       "unicef                    0.021892\n",
       "district council          0.017713\n",
       "dhv                       0.017543\n",
       "Name: funder, dtype: float64"
      ]
     },
     "execution_count": 20,
     "metadata": {},
     "output_type": "execute_result"
    }
   ],
   "source": [
    "#Treat funder like installer\n",
    "\n",
    "#since the column has 0 as a value, first replace 0 with unknown\n",
    "training_df['funder'].replace(to_replace = '0', value ='unknown' , inplace=True)\n",
    "\n",
    "#have to also fill NAN values with unknown\n",
    "training_df['funder'].fillna(value='unknown',inplace=True)\n",
    "\n",
    "#begin replacing misspelled values\n",
    "training_df['funder'].replace(to_replace = ('District Water Department', 'District water depar','Distric Water Department',\n",
    "                                            'dwe'),value ='district water department' , inplace=True)\n",
    "\n",
    "training_df['funder'].replace(to_replace = ('FinW','Fini water','FINI WATER'), value ='fini water' , inplace=True)\n",
    "\n",
    "training_df['funder'].replace(to_replace = 'JAICA', value ='jaica' , inplace=True)\n",
    "\n",
    "training_df['funder'].replace(to_replace = ('COUN', 'District COUNCIL', 'DISTRICT COUNCIL','District Counci', \n",
    "                                            'District Council','Council','Counc','District  Council','Distri'),\n",
    "                                            value ='District council' , inplace=True)\n",
    "\n",
    "training_df['funder'].replace(to_replace = ('RC CHURCH', 'RC Churc', 'RC','RC Ch','RC C', 'RC CH','RC church', \n",
    "                                            'RC CATHORIC',) , value ='RC Church' , inplace=True)\n",
    "\n",
    "training_df['funder'].replace(to_replace = ('Central Government','Tanzania Government','central government',\n",
    "                                            'Cental Government', 'Cebtral Government', 'Tanzanian Government',\n",
    "                                            'Tanzania government', 'Centra Government','CENTRAL GOVERNMENT', \n",
    "                                            'TANZANIAN GOVERNMENT','Central govt','Centr','Centra govt',\n",
    "                                            'government of tanzania', 'government','GOVERNMENT', 'GOVER', 'GOVERNME', \n",
    "                                            'GOVERM','GOVERN','Gover','Gove','Governme','Governmen',\n",
    "                                            'government of tanzania'),value ='Central government',inplace=True)\n",
    "\n",
    "training_df['funder'].replace(to_replace = ('World vision', 'World Division','World Vision'),\n",
    "                                             value ='world vision' , inplace=True)\n",
    "\n",
    "training_df['funder'].replace(to_replace = ('Unisef','UNICEF'),value ='Unicef' , inplace=True)\n",
    "\n",
    "training_df['funder'].replace(to_replace = 'DANID', value ='DANIDA' , inplace=True)\n",
    "\n",
    "training_df['funder'].replace(to_replace = ('villigers', 'villager', 'Villagers', 'Villa', 'Village', 'Villi', \n",
    "                                            'Village Council','Village Counil', 'Villages', 'Vill', \n",
    "                                            'Village community','Villaers', 'Village Community', 'Villag',\n",
    "                                            'Villege Council','Village council','Village  Council','Villagerd', \n",
    "                                            'Villager', 'Village Technician','Village Office',\n",
    "                                            'Village community members'), value ='villagers' , inplace=True)\n",
    "\n",
    "training_df['funder'].replace(to_replace =('Commu','Communit','commu','COMMU', 'COMMUNITY') ,\n",
    "                                            value ='Community' , inplace=True)\n",
    "\n",
    "training_df['funder'].replace(to_replace = 'Hesawa' ,value ='HESAWA' , inplace=True)\n",
    "\n",
    "\n",
    "#now make all the values lower case. This looks much better.\n",
    "training_df['funder'] = training_df['funder'].apply(str.lower)\n",
    "\n",
    "#drop funders who fund less then 50 wells\n",
    "keep_funder = training_df['funder'].value_counts()[training_df['funder'].value_counts() > 50].index.values.tolist()\n",
    "\n",
    "training_df = training_df.loc[training_df['funder'].isin(keep_funder)]\n",
    "\n",
    "training_df['funder'].value_counts(normalize=True).head(10)"
   ]
  },
  {
   "cell_type": "code",
   "execution_count": 21,
   "metadata": {},
   "outputs": [],
   "source": [
    "#columns to keep for a cleaner dataset. Dropped columns that either had redundant data, or many null/0 values.\n",
    "#Continue the EDA process by seeing relationships between categories and status_group \n",
    "\n",
    "keep_columns = ['status_group','amount_tsh','installer','funder','longitude','latitude',\n",
    "                'basin','region','region_code','district_code','scheme_management','extraction_type','management',\n",
    "                'payment','quality_group','quantity','source','waterpoint_type','population','construction_year']\n",
    "                \n",
    "df = training_df[keep_columns]"
   ]
  },
  {
   "cell_type": "code",
   "execution_count": 22,
   "metadata": {},
   "outputs": [
    {
     "name": "stdout",
     "output_type": "stream",
     "text": [
      "functional                 53.629614\n",
      "non functional             38.782350\n",
      "functional needs repair     7.588036\n",
      "Name: status_group, dtype: float64\n"
     ]
    },
    {
     "data": {
      "image/png": "[encoded data removed]",
      "text/plain": [
       "<Figure size 720x432 with 1 Axes>"
      ]
     },
     "metadata": {
      "needs_background": "light"
     },
     "output_type": "display_data"
    }
   ],
   "source": [
    "#The target variable is status_group. Imbalance in the target variable, going to need SMOTE to \n",
    "#bring data into balance\n",
    "\n",
    "#53.60% of the pumps are funtional\n",
    "#38.79% of the pumps are non functional\n",
    "#7.58% of the pumps need repair\n",
    "\n",
    "plt.figure(figsize=(10,6))\n",
    "sns.countplot(df.status_group).set(title='Water Pump Status')\n",
    "print(df['status_group'].value_counts(normalize=True) * 100)"
   ]
  },
  {
   "cell_type": "code",
   "execution_count": 23,
   "metadata": {},
   "outputs": [
    {
     "data": {
      "image/png": "[encoded data removed]",
      "text/plain": [
       "<Figure size 720x432 with 1 Axes>"
      ]
     },
     "metadata": {
      "needs_background": "light"
     },
     "output_type": "display_data"
    }
   ],
   "source": [
    "#A gragh of all installers isn't practical becasue there is too much data. Better to look at the top 20.\n",
    "\n",
    "dfDwe = df.loc[df['installer']== 'dwe']\n",
    "dfUnk = df.loc[df['installer']== 'unknown']              \n",
    "dfCenGov = df.loc[df['installer']== 'central government'] \n",
    "dfDan =    df.loc[df['installer']== 'danida']\n",
    "dfCom =    df.loc[df['installer']== 'community']\n",
    "dfHes =    df.loc[df['installer']== 'hesawa'] \n",
    "dfRwe =    df.loc[df['installer']== 'rwe']\n",
    "dfDc =     df.loc[df['installer']== 'district council'] \n",
    "dfKkkt =   df.loc[df['installer']== 'kkkt']  \n",
    "dfTcr =    df.loc[df['installer']== 'tcrs'] \n",
    "\n",
    "\n",
    "df_installer = pd.concat([dfDwe,dfUnk,dfCenGov,dfCom,dfDan,dfHes,\n",
    "                          dfRwe,dfDc,dfKkkt,dfTcr], ignore_index=True)\n",
    "\n",
    "#graph for the top 10 installers. governments and community wells good indicators for non-functioning wells.\n",
    "plt.figure(figsize=(10,6))\n",
    "sns.countplot(data=df_installer,x='installer',hue='status_group', palette=\"bright\").set(title='Top 10 Installers')\n",
    "plt.xticks(rotation=90)\n",
    "plt.show()"
   ]
  },
  {
   "cell_type": "code",
   "execution_count": 24,
   "metadata": {},
   "outputs": [
    {
     "data": {
      "image/png": "[encoded data removed]",
      "text/plain": [
       "<Figure size 864x432 with 1 Axes>"
      ]
     },
     "metadata": {
      "needs_background": "light"
     },
     "output_type": "display_data"
    }
   ],
   "source": [
    "#Graph the top 10 to see if/how funder effects well functioning wells\n",
    "\n",
    "dfGov = df.loc[df['funder']== 'government of tanzania']\n",
    "dfUnk = df.loc[df['funder']== 'unknown']              \n",
    "dfDan = df.loc[df['funder']== 'danida'] \n",
    "dfHes = df.loc[df['funder']== 'hesawa'] \n",
    "dfRws = df.loc[df['funder']== 'rwssp']\n",
    "dfKkkt = df.loc[df['funder']== 'kkkt']  \n",
    "dfWor = df.loc[df['funder']== 'world vision'] \n",
    "dfUni = df.loc[df['funder']== 'unicef'] \n",
    "dfDis = df.loc[df['funder']== 'district council']\n",
    "dfDws = df.loc[df['funder']== 'dwsp']\n",
    "\n",
    "df_funder = pd.concat([dfGov,dfUnk,dfDan,dfHes,dfRws,dfKkkt,dfWor,dfUni,dfDis,dfDws], ignore_index=True)\n",
    "\n",
    "#graph for the top 20 installers. governments and community wells good indicators for non-functioning wells.\n",
    "plt.figure(figsize=(12,6))\n",
    "sns.countplot(data=df_funder,x='funder',hue='status_group').set(title='Top 10 Funders')\n",
    "plt.xticks(rotation=90)\n",
    "plt.show()"
   ]
  },
  {
   "cell_type": "code",
   "execution_count": 25,
   "metadata": {},
   "outputs": [
    {
     "data": {
      "text/plain": [
       "[Text(0.5, 1.0, 'Basin')]"
      ]
     },
     "execution_count": 25,
     "metadata": {},
     "output_type": "execute_result"
    },
    {
     "data": {
      "image/png": "[encoded data removed]",
      "text/plain": [
       "<Figure size 720x432 with 1 Axes>"
      ]
     },
     "metadata": {
      "needs_background": "light"
     },
     "output_type": "display_data"
    }
   ],
   "source": [
    "#All categories of basins show us good classification of various well types.\n",
    "#For example, Pangani and Rufji are great for funtional \n",
    "#Ruvuma and Lake Rukwa are good for classification of non-funtional wells\n",
    "\n",
    "plt.figure(figsize=(10,6))\n",
    "plt.xticks(rotation=90)\n",
    "sns.countplot(data=df,x='basin',hue='status_group').set(title='Basin')"
   ]
  },
  {
   "cell_type": "code",
   "execution_count": 26,
   "metadata": {},
   "outputs": [
    {
     "data": {
      "image/png": "[encoded data removed]",
      "text/plain": [
       "<Figure size 864x432 with 1 Axes>"
      ]
     },
     "metadata": {
      "needs_background": "light"
     },
     "output_type": "display_data"
    }
   ],
   "source": [
    "#disparities between regions for functioning water pumps.\n",
    "plt.figure(figsize=(12,6))\n",
    "sns.countplot(data=df,x='region',hue='status_group').set(title='Region')\n",
    "plt.xticks(rotation=90)\n",
    "plt.show()"
   ]
  },
  {
   "cell_type": "code",
   "execution_count": 27,
   "metadata": {},
   "outputs": [
    {
     "data": {
      "image/png": "[encoded data removed]",
      "text/plain": [
       "<Figure size 864x432 with 1 Axes>"
      ]
     },
     "metadata": {
      "needs_background": "light"
     },
     "output_type": "display_data"
    }
   ],
   "source": [
    "#disparities between region codes for functioning water pumps.\n",
    "plt.figure(figsize=(12,6))\n",
    "sns.countplot(data=df,x='region_code',hue='status_group').set(title='Region Code')\n",
    "plt.show()"
   ]
  },
  {
   "cell_type": "code",
   "execution_count": 28,
   "metadata": {},
   "outputs": [
    {
     "data": {
      "image/png": "[encoded data removed]",
      "text/plain": [
       "<Figure size 864x432 with 1 Axes>"
      ]
     },
     "metadata": {
      "needs_background": "light"
     },
     "output_type": "display_data"
    }
   ],
   "source": [
    "#disparities between district codes for functioning water pumps.\n",
    "plt.figure(figsize=(12,6))\n",
    "sns.countplot(data=df,x='district_code',hue='status_group').set(title='District Code')\n",
    "plt.show()"
   ]
  },
  {
   "cell_type": "code",
   "execution_count": 29,
   "metadata": {},
   "outputs": [
    {
     "data": {
      "text/plain": [
       "[Text(0.5, 1.0, 'Payment Type')]"
      ]
     },
     "execution_count": 29,
     "metadata": {},
     "output_type": "execute_result"
    },
    {
     "data": {
      "image/png": "[encoded data removed]",
      "text/plain": [
       "<Figure size 864x648 with 1 Axes>"
      ]
     },
     "metadata": {
      "needs_background": "light"
     },
     "output_type": "display_data"
    }
   ],
   "source": [
    "#payment doesn't seem to effect whether a pump is funtioning or not\n",
    "plt.figure(figsize=(12, 9))\n",
    "plt.xticks(rotation=90)\n",
    "sns.countplot(data=df,x='payment',hue='status_group').set(title='Payment Type')"
   ]
  },
  {
   "cell_type": "code",
   "execution_count": 30,
   "metadata": {},
   "outputs": [
    {
     "data": {
      "text/plain": [
       "[Text(0.5, 1.0, 'Water Quality')]"
      ]
     },
     "execution_count": 30,
     "metadata": {},
     "output_type": "execute_result"
    },
    {
     "data": {
      "image/png": "[encoded data removed]",
      "text/plain": [
       "<Figure size 864x432 with 1 Axes>"
      ]
     },
     "metadata": {
      "needs_background": "light"
     },
     "output_type": "display_data"
    }
   ],
   "source": [
    "#Good water quality leads to more funtional wells as can be expeced. Salty water is good for classifying \n",
    "#non-functional wells\n",
    "plt.figure(figsize=(12,6))\n",
    "plt.xticks(rotation=90)\n",
    "sns.countplot(data=df,x='quality_group',hue='status_group').set(title='Water Quality')"
   ]
  },
  {
   "cell_type": "code",
   "execution_count": 31,
   "metadata": {},
   "outputs": [
    {
     "data": {
      "text/plain": [
       "[Text(0.5, 1.0, 'Water Quantity')]"
      ]
     },
     "execution_count": 31,
     "metadata": {},
     "output_type": "execute_result"
    },
    {
     "data": {
      "image/png": "[encoded data removed]",
      "text/plain": [
       "<Figure size 864x432 with 1 Axes>"
      ]
     },
     "metadata": {
      "needs_background": "light"
     },
     "output_type": "display_data"
    }
   ],
   "source": [
    "#Dry and insufficient water quantity leads to high non funtional wells \n",
    "plt.figure(figsize=(12,6))\n",
    "plt.xticks(rotation=90)\n",
    "sns.countplot(data=df,x='quantity',hue='status_group').set(title='Water Quantity')"
   ]
  },
  {
   "cell_type": "code",
   "execution_count": 32,
   "metadata": {},
   "outputs": [
    {
     "data": {
      "text/plain": [
       "[Text(0.5, 1.0, 'Water Source')]"
      ]
     },
     "execution_count": 32,
     "metadata": {},
     "output_type": "execute_result"
    },
    {
     "data": {
      "image/png": "[encoded data removed]",
      "text/plain": [
       "<Figure size 864x432 with 1 Axes>"
      ]
     },
     "metadata": {
      "needs_background": "light"
     },
     "output_type": "display_data"
    }
   ],
   "source": [
    "#spring are good classifiers for functional wells. Machine and shallow are good for non-funtional\n",
    "plt.figure(figsize=(12,6))\n",
    "plt.xticks(rotation=90)\n",
    "sns.countplot(data=df,x='source',hue='status_group').set(title='Water Source')"
   ]
  },
  {
   "cell_type": "code",
   "execution_count": 33,
   "metadata": {},
   "outputs": [
    {
     "data": {
      "text/plain": [
       "spring                  0.302694\n",
       "shallow well            0.284345\n",
       "machine dbh             0.178171\n",
       "river                   0.166928\n",
       "rainwater harvesting    0.028553\n",
       "hand dtw                0.015698\n",
       "lake                    0.010607\n",
       "dam                     0.008082\n",
       "other                   0.003649\n",
       "unknown                 0.001273\n",
       "Name: source, dtype: float64"
      ]
     },
     "execution_count": 33,
     "metadata": {},
     "output_type": "execute_result"
    }
   ],
   "source": [
    "df['source'].value_counts(normalize=True)"
   ]
  },
  {
   "cell_type": "code",
   "execution_count": 34,
   "metadata": {},
   "outputs": [
    {
     "data": {
      "image/png": "[encoded data removed]",
      "text/plain": [
       "<Figure size 864x432 with 1 Axes>"
      ]
     },
     "metadata": {
      "needs_background": "light"
     },
     "output_type": "display_data"
    }
   ],
   "source": [
    "#gravity is responsible for the majority or working water pumps. Would need more data to find out \n",
    "#what other means as it has good predictive power for non-funtional wells.\n",
    "\n",
    "plt.figure(figsize=(12,6))\n",
    "my_plot = sns.countplot(data=df,x='extraction_type',hue='status_group').set(title='Extraction Method')\n",
    "plt.xticks(rotation=90)\n",
    "plt.show()"
   ]
  },
  {
   "cell_type": "code",
   "execution_count": 35,
   "metadata": {},
   "outputs": [
    {
     "data": {
      "image/png": "[encoded data removed]",
      "text/plain": [
       "<Figure size 1008x432 with 1 Axes>"
      ]
     },
     "metadata": {
      "needs_background": "light"
     },
     "output_type": "display_data"
    }
   ],
   "source": [
    "#As expeced funtioning wells have higher populations.\n",
    "df = df.loc[df[\"population\"] <= 10000 ]\n",
    "plt.figure(figsize=(14,6))\n",
    "my_plot = sns.boxplot(data=df,x='population',y='status_group').set(title='Population')\n",
    "plt.show()"
   ]
  },
  {
   "cell_type": "code",
   "execution_count": 36,
   "metadata": {},
   "outputs": [
    {
     "data": {
      "image/png": "[encoded data removed]",
      "text/plain": [
       "<Figure size 1008x432 with 1 Axes>"
      ]
     },
     "metadata": {
      "needs_background": "light"
     },
     "output_type": "display_data"
    }
   ],
   "source": [
    "#hard to get any data from this plot because there is too much data. would be better to divide the years into \n",
    "#equal parts and graph it again.\n",
    "plt.figure(figsize=(14,6))\n",
    "my_plot = sns.countplot(data=df,x='construction_year',hue='status_group').set(title='Year Constructed')\n",
    "plt.xticks(rotation=90)\n",
    "plt.show()"
   ]
  },
  {
   "cell_type": "code",
   "execution_count": 37,
   "metadata": {},
   "outputs": [
    {
     "data": {
      "image/png": "[encoded data removed]",
      "text/plain": [
       "<Figure size 864x432 with 1 Axes>"
      ]
     },
     "metadata": {
      "needs_background": "light"
     },
     "output_type": "display_data"
    }
   ],
   "source": [
    "#divide the years by decades, I'm leaving 0 values inplace, this could be a suggestion of the \n",
    "#importance of data collecting going forwards.\n",
    "\n",
    "df['year_bins'] = df['construction_year']\n",
    "\n",
    "df['year_bins'].replace(to_replace = range(1960,1970),value ='1960s', inplace=True)\n",
    "df['year_bins'].replace(to_replace = range(1970,1980),value ='1970s', inplace=True)\n",
    "df['year_bins'].replace(to_replace = range(1980,1990),value ='1980s', inplace=True)\n",
    "df['year_bins'].replace(to_replace = range(1990,2000),value ='1990s', inplace=True)\n",
    "df['year_bins'].replace(to_replace = range(2000,2010),value ='2000s', inplace=True)\n",
    "df['year_bins'].replace(to_replace = range(2000,2013),value ='2010s', inplace=True)\n",
    "\n",
    "plt.figure(figsize=(12,6))\n",
    "my_plot = sns.countplot(data=df,x='year_bins',hue='status_group').set(title='Year Constructed')\n",
    "plt.xticks(rotation=90)\n",
    "plt.show()"
   ]
  },
  {
   "cell_type": "markdown",
   "metadata": {},
   "source": [
    "# Data Wrangling"
   ]
  },
  {
   "cell_type": "code",
   "execution_count": 38,
   "metadata": {},
   "outputs": [],
   "source": [
    "#columns to keep for a cleaner dataset. Dropped columns that either had redundant data, or many null/0 values.\n",
    "\n",
    "keep_columns = ['status_group','amount_tsh','date_recorded','funder','installer','longitude','latitude','basin',\n",
    "                'region','region_code','district_code','recorded_by','scheme_management','extraction_type','management',\n",
    "                'payment','quality_group','quantity','source','waterpoint_type','population','construction_year']\n",
    "                \n",
    "df = training_df[keep_columns]"
   ]
  },
  {
   "cell_type": "code",
   "execution_count": 39,
   "metadata": {},
   "outputs": [
    {
     "data": {
      "text/plain": [
       "functional                 25281\n",
       "non functional             18282\n",
       "functional needs repair     3577\n",
       "Name: status_group, dtype: int64"
      ]
     },
     "execution_count": 39,
     "metadata": {},
     "output_type": "execute_result"
    }
   ],
   "source": [
    "df['status_group'].value_counts()"
   ]
  },
  {
   "cell_type": "code",
   "execution_count": 40,
   "metadata": {},
   "outputs": [
    {
     "name": "stdout",
     "output_type": "stream",
     "text": [
      "<class 'pandas.core.frame.DataFrame'>\n",
      "Int64Index: 47140 entries, 69572 to 26348\n",
      "Data columns (total 22 columns):\n",
      " #   Column             Non-Null Count  Dtype  \n",
      "---  ------             --------------  -----  \n",
      " 0   status_group       47140 non-null  object \n",
      " 1   amount_tsh         47140 non-null  float64\n",
      " 2   date_recorded      47140 non-null  object \n",
      " 3   funder             47140 non-null  object \n",
      " 4   installer          47140 non-null  object \n",
      " 5   longitude          47140 non-null  float64\n",
      " 6   latitude           47140 non-null  float64\n",
      " 7   basin              47140 non-null  object \n",
      " 8   region             47140 non-null  object \n",
      " 9   region_code        47140 non-null  int64  \n",
      " 10  district_code      47140 non-null  int64  \n",
      " 11  recorded_by        47140 non-null  object \n",
      " 12  scheme_management  44195 non-null  object \n",
      " 13  extraction_type    47140 non-null  object \n",
      " 14  management         47140 non-null  object \n",
      " 15  payment            47140 non-null  object \n",
      " 16  quality_group      47140 non-null  object \n",
      " 17  quantity           47140 non-null  object \n",
      " 18  source             47140 non-null  object \n",
      " 19  waterpoint_type    47140 non-null  object \n",
      " 20  population         47140 non-null  int64  \n",
      " 21  construction_year  47140 non-null  int64  \n",
      "dtypes: float64(3), int64(4), object(15)\n",
      "memory usage: 9.5+ MB\n"
     ]
    }
   ],
   "source": [
    "#a few null values \n",
    "df.info()"
   ]
  },
  {
   "cell_type": "code",
   "execution_count": 41,
   "metadata": {},
   "outputs": [
    {
     "data": {
      "text/plain": [
       "status_group            0\n",
       "amount_tsh              0\n",
       "date_recorded           0\n",
       "funder                  0\n",
       "installer               0\n",
       "longitude               0\n",
       "latitude                0\n",
       "basin                   0\n",
       "region                  0\n",
       "region_code             0\n",
       "district_code           0\n",
       "recorded_by             0\n",
       "scheme_management    2945\n",
       "extraction_type         0\n",
       "management              0\n",
       "payment                 0\n",
       "quality_group           0\n",
       "quantity                0\n",
       "source                  0\n",
       "waterpoint_type         0\n",
       "population              0\n",
       "construction_year       0\n",
       "dtype: int64"
      ]
     },
     "execution_count": 41,
     "metadata": {},
     "output_type": "execute_result"
    }
   ],
   "source": [
    "#These columns still have some null values to deal with.\n",
    "df.isna().sum()"
   ]
  },
  {
   "cell_type": "code",
   "execution_count": 42,
   "metadata": {},
   "outputs": [
    {
     "name": "stdout",
     "output_type": "stream",
     "text": [
      "<class 'pandas.core.frame.DataFrame'>\n",
      "Int64Index: 44195 entries, 69572 to 26348\n",
      "Data columns (total 22 columns):\n",
      " #   Column             Non-Null Count  Dtype  \n",
      "---  ------             --------------  -----  \n",
      " 0   status_group       44195 non-null  object \n",
      " 1   amount_tsh         44195 non-null  float64\n",
      " 2   date_recorded      44195 non-null  object \n",
      " 3   funder             44195 non-null  object \n",
      " 4   installer          44195 non-null  object \n",
      " 5   longitude          44195 non-null  float64\n",
      " 6   latitude           44195 non-null  float64\n",
      " 7   basin              44195 non-null  object \n",
      " 8   region             44195 non-null  object \n",
      " 9   region_code        44195 non-null  int64  \n",
      " 10  district_code      44195 non-null  int64  \n",
      " 11  recorded_by        44195 non-null  object \n",
      " 12  scheme_management  44195 non-null  object \n",
      " 13  extraction_type    44195 non-null  object \n",
      " 14  management         44195 non-null  object \n",
      " 15  payment            44195 non-null  object \n",
      " 16  quality_group      44195 non-null  object \n",
      " 17  quantity           44195 non-null  object \n",
      " 18  source             44195 non-null  object \n",
      " 19  waterpoint_type    44195 non-null  object \n",
      " 20  population         44195 non-null  int64  \n",
      " 21  construction_year  44195 non-null  int64  \n",
      "dtypes: float64(3), int64(4), object(15)\n",
      "memory usage: 7.8+ MB\n"
     ]
    }
   ],
   "source": [
    "#drop the null values in the dataset\n",
    "df.dropna(axis = 0, inplace = True)\n",
    "\n",
    "#over 44k rows should be plenty of data for this project\n",
    "df.info()"
   ]
  },
  {
   "cell_type": "code",
   "execution_count": 43,
   "metadata": {},
   "outputs": [
    {
     "name": "stdout",
     "output_type": "stream",
     "text": [
      "Count of zeros in column in status_group  is :  0\n",
      "Count of zeros in column in amount_tsh  is :  30505\n",
      "Count of zeros in column in date_recorded  is :  0\n",
      "Count of zeros in column in funder  is :  0\n",
      "Count of zeros in column in installer  is :  0\n",
      "Count of zeros in column in longitude  is :  1399\n",
      "Count of zeros in column in latitude  is :  0\n",
      "Count of zeros in column in basin  is :  0\n",
      "Count of zeros in column in region  is :  0\n",
      "Count of zeros in column in region_code  is :  0\n",
      "Count of zeros in column in district_code  is :  19\n",
      "Count of zeros in column in recorded_by  is :  0\n",
      "Count of zeros in column in scheme_management  is :  0\n",
      "Count of zeros in column in extraction_type  is :  0\n",
      "Count of zeros in column in management  is :  0\n",
      "Count of zeros in column in payment  is :  0\n",
      "Count of zeros in column in quality_group  is :  0\n",
      "Count of zeros in column in quantity  is :  0\n",
      "Count of zeros in column in source  is :  0\n",
      "Count of zeros in column in waterpoint_type  is :  0\n",
      "Count of zeros in column in population  is :  16421\n",
      "Count of zeros in column in construction_year  is :  15762\n"
     ]
    }
   ],
   "source": [
    "#look at how many 0's in remaining columns \n",
    "for column_name in df.columns:\n",
    "    column = df[column_name]\n",
    "    # Get the count of Zeros in column \n",
    "    count = (column == 0).sum()\n",
    "    print('Count of zeros in column in', column_name, ' is : ', count)"
   ]
  },
  {
   "cell_type": "code",
   "execution_count": 44,
   "metadata": {},
   "outputs": [
    {
     "data": {
      "text/html": [
       "<div>\n",
       "<style scoped>\n",
       "    .dataframe tbody tr th:only-of-type {\n",
       "        vertical-align: middle;\n",
       "    }\n",
       "\n",
       "    .dataframe tbody tr th {\n",
       "        vertical-align: top;\n",
       "    }\n",
       "\n",
       "    .dataframe thead th {\n",
       "        text-align: right;\n",
       "    }\n",
       "</style>\n",
       "<table border=\"1\" class=\"dataframe\">\n",
       "  <thead>\n",
       "    <tr style=\"text-align: right;\">\n",
       "      <th></th>\n",
       "      <th>amount_tsh</th>\n",
       "      <th>longitude</th>\n",
       "      <th>latitude</th>\n",
       "      <th>region_code</th>\n",
       "      <th>district_code</th>\n",
       "      <th>population</th>\n",
       "      <th>construction_year</th>\n",
       "    </tr>\n",
       "  </thead>\n",
       "  <tbody>\n",
       "    <tr>\n",
       "      <th>count</th>\n",
       "      <td>44195.000000</td>\n",
       "      <td>44195.000000</td>\n",
       "      <td>4.419500e+04</td>\n",
       "      <td>44195.000000</td>\n",
       "      <td>44195.000000</td>\n",
       "      <td>44195.000000</td>\n",
       "      <td>44195.000000</td>\n",
       "    </tr>\n",
       "    <tr>\n",
       "      <th>mean</th>\n",
       "      <td>328.801707</td>\n",
       "      <td>34.050702</td>\n",
       "      <td>-5.819312e+00</td>\n",
       "      <td>14.575223</td>\n",
       "      <td>5.436362</td>\n",
       "      <td>158.170608</td>\n",
       "      <td>1283.829619</td>\n",
       "    </tr>\n",
       "    <tr>\n",
       "      <th>std</th>\n",
       "      <td>2843.603782</td>\n",
       "      <td>6.664577</td>\n",
       "      <td>2.937654e+00</td>\n",
       "      <td>16.703128</td>\n",
       "      <td>9.215781</td>\n",
       "      <td>441.059020</td>\n",
       "      <td>955.942241</td>\n",
       "    </tr>\n",
       "    <tr>\n",
       "      <th>min</th>\n",
       "      <td>0.000000</td>\n",
       "      <td>0.000000</td>\n",
       "      <td>-1.164944e+01</td>\n",
       "      <td>1.000000</td>\n",
       "      <td>0.000000</td>\n",
       "      <td>0.000000</td>\n",
       "      <td>0.000000</td>\n",
       "    </tr>\n",
       "    <tr>\n",
       "      <th>25%</th>\n",
       "      <td>0.000000</td>\n",
       "      <td>33.219303</td>\n",
       "      <td>-8.751083e+00</td>\n",
       "      <td>5.000000</td>\n",
       "      <td>2.000000</td>\n",
       "      <td>0.000000</td>\n",
       "      <td>0.000000</td>\n",
       "    </tr>\n",
       "    <tr>\n",
       "      <th>50%</th>\n",
       "      <td>0.000000</td>\n",
       "      <td>34.892862</td>\n",
       "      <td>-5.119633e+00</td>\n",
       "      <td>12.000000</td>\n",
       "      <td>3.000000</td>\n",
       "      <td>1.000000</td>\n",
       "      <td>1984.000000</td>\n",
       "    </tr>\n",
       "    <tr>\n",
       "      <th>75%</th>\n",
       "      <td>30.000000</td>\n",
       "      <td>37.233278</td>\n",
       "      <td>-3.335838e+00</td>\n",
       "      <td>17.000000</td>\n",
       "      <td>5.000000</td>\n",
       "      <td>200.000000</td>\n",
       "      <td>2002.000000</td>\n",
       "    </tr>\n",
       "    <tr>\n",
       "      <th>max</th>\n",
       "      <td>350000.000000</td>\n",
       "      <td>40.323402</td>\n",
       "      <td>-2.000000e-08</td>\n",
       "      <td>99.000000</td>\n",
       "      <td>80.000000</td>\n",
       "      <td>30500.000000</td>\n",
       "      <td>2013.000000</td>\n",
       "    </tr>\n",
       "  </tbody>\n",
       "</table>\n",
       "</div>"
      ],
      "text/plain": [
       "          amount_tsh     longitude      latitude   region_code  district_code  \\\n",
       "count   44195.000000  44195.000000  4.419500e+04  44195.000000   44195.000000   \n",
       "mean      328.801707     34.050702 -5.819312e+00     14.575223       5.436362   \n",
       "std      2843.603782      6.664577  2.937654e+00     16.703128       9.215781   \n",
       "min         0.000000      0.000000 -1.164944e+01      1.000000       0.000000   \n",
       "25%         0.000000     33.219303 -8.751083e+00      5.000000       2.000000   \n",
       "50%         0.000000     34.892862 -5.119633e+00     12.000000       3.000000   \n",
       "75%        30.000000     37.233278 -3.335838e+00     17.000000       5.000000   \n",
       "max    350000.000000     40.323402 -2.000000e-08     99.000000      80.000000   \n",
       "\n",
       "         population  construction_year  \n",
       "count  44195.000000       44195.000000  \n",
       "mean     158.170608        1283.829619  \n",
       "std      441.059020         955.942241  \n",
       "min        0.000000           0.000000  \n",
       "25%        0.000000           0.000000  \n",
       "50%        1.000000        1984.000000  \n",
       "75%      200.000000        2002.000000  \n",
       "max    30500.000000        2013.000000  "
      ]
     },
     "execution_count": 44,
     "metadata": {},
     "output_type": "execute_result"
    }
   ],
   "source": [
    "df.describe()"
   ]
  },
  {
   "cell_type": "code",
   "execution_count": 45,
   "metadata": {},
   "outputs": [],
   "source": [
    "#remove the / from basin values\n",
    "df['basin'] = df['basin'].replace(['Wami / Ruvu','Ruvuma / Southern Coast'],['Wami','Ruvuma'])"
   ]
  },
  {
   "cell_type": "code",
   "execution_count": 46,
   "metadata": {},
   "outputs": [
    {
     "data": {
      "image/png": "[encoded data removed]",
      "text/plain": [
       "<Figure size 1080x360 with 3 Axes>"
      ]
     },
     "metadata": {
      "needs_background": "light"
     },
     "output_type": "display_data"
    }
   ],
   "source": [
    "#heavily skewed data, going to input the median for missing values.\n",
    "\n",
    "fig, (ax1,ax2,ax3) = plt.subplots(1,3, figsize=(15, 5))\n",
    "\n",
    "ax1.hist(df['amount_tsh'])\n",
    "ax1.set_xlabel('amount_tsh')\n",
    "\n",
    "ax2.hist(df['population'])\n",
    "ax2.set_xlabel('population')\n",
    "\n",
    "ax3.hist(df['construction_year'])\n",
    "ax3.set_xlabel('construction_year')\n",
    "\n",
    "plt.show()"
   ]
  },
  {
   "cell_type": "code",
   "execution_count": 47,
   "metadata": {},
   "outputs": [
    {
     "data": {
      "image/png": "[encoded data removed]",
      "text/plain": [
       "<Figure size 720x360 with 2 Axes>"
      ]
     },
     "metadata": {
      "needs_background": "light"
     },
     "output_type": "display_data"
    }
   ],
   "source": [
    "#heavily skewed data\n",
    "fig, (ax1,ax2) = plt.subplots(1,2, figsize=(10, 5))\n",
    "\n",
    "ax1.hist(df['longitude'])\n",
    "ax1.set_xlabel('longitude')\n",
    "\n",
    "ax2.hist(df['latitude'])\n",
    "ax2.set_xlabel('latitude')\n",
    "plt.show()"
   ]
  },
  {
   "cell_type": "code",
   "execution_count": 48,
   "metadata": {},
   "outputs": [
    {
     "data": {
      "image/png": "[encoded data removed]",
      "text/plain": [
       "<Figure size 720x360 with 2 Axes>"
      ]
     },
     "metadata": {
      "needs_background": "light"
     },
     "output_type": "display_data"
    }
   ],
   "source": [
    "#heavily skewed data, going to input the median for missing values.\n",
    "fig, (ax1,ax2) = plt.subplots(1,2, figsize=(10, 5))\n",
    "\n",
    "ax1.hist(df['region_code'])\n",
    "ax1.set_xlabel('region_code')\n",
    "\n",
    "ax2.hist(df['district_code'])\n",
    "ax2.set_xlabel('district_code')\n",
    "plt.show()"
   ]
  },
  {
   "cell_type": "code",
   "execution_count": 49,
   "metadata": {},
   "outputs": [],
   "source": [
    "#create X and y varaibles and set status_group as the target\n",
    "\n",
    "X = df.drop(columns = ['status_group'])\n",
    "y = df['status_group']\n",
    "\n",
    "X =  X.reset_index(drop=True)\n",
    "y = y.reset_index(drop=True)"
   ]
  },
  {
   "cell_type": "code",
   "execution_count": 50,
   "metadata": {},
   "outputs": [],
   "source": [
    "lab_enc = LabelEncoder()\n",
    "y = lab_enc.fit_transform(y)"
   ]
  },
  {
   "cell_type": "code",
   "execution_count": 51,
   "metadata": {},
   "outputs": [],
   "source": [
    "#Important to split the data before making any transformations or imputing.\n",
    "#using the standard 80/20 split \n",
    "X_train, X_test, y_train, y_test = train_test_split(X, y, test_size = 0.20, stratify = y, random_state = 42)"
   ]
  },
  {
   "cell_type": "code",
   "execution_count": 52,
   "metadata": {},
   "outputs": [
    {
     "name": "stdout",
     "output_type": "stream",
     "text": [
      "35356\n",
      "8839\n"
     ]
    }
   ],
   "source": [
    "#sanity check to see how the data has been split\n",
    "print(X_train.funder.value_counts().sum())\n",
    "print(X_test.funder.value_counts().sum())"
   ]
  },
  {
   "cell_type": "markdown",
   "metadata": {},
   "source": [
    "# Building Pipelines"
   ]
  },
  {
   "cell_type": "code",
   "execution_count": 53,
   "metadata": {},
   "outputs": [],
   "source": [
    "#going to build pipelines to manage data wrangling \n",
    "               \n",
    "#using the median since the data is to heavily skewed\n",
    "numeric_pipeline = Pipeline(steps = [\n",
    "                           ('numimputer', SimpleImputer(strategy = 'median')),\n",
    "                           ('numnorm', StandardScaler())])\n",
    "\n",
    "#categories like water quality, quantity have an order but it is unknown. \n",
    "nominal_pipeline = Pipeline(steps= [\n",
    "                           ('onehotimputer', SimpleImputer(strategy = 'most_frequent')),\n",
    "                           ('onehotenc', OneHotEncoder(handle_unknown ='ignore')), \n",
    "                           ('onehotnorm', MaxAbsScaler())])"
   ]
  },
  {
   "cell_type": "code",
   "execution_count": 54,
   "metadata": {},
   "outputs": [],
   "source": [
    "#Specify which column the pipelines will act on. Since I don't have a definitive key for\n",
    "#the order of quality_group and quantity, I'm going to treat them as categorical variables.\n",
    "\n",
    "num_cols = ['amount_tsh','longitude','latitude','region_code','district_code',\n",
    "            'population','construction_year']\n",
    "\n",
    "cat_cols = ['installer','funder','basin','region','scheme_management','extraction_type',\n",
    "            'management','payment','quality_group','quantity','source','waterpoint_type']\n",
    "\n",
    "ct = ColumnTransformer([\n",
    "                        (\"nominalpipe\", nominal_pipeline, cat_cols),\n",
    "                        (\"numpipe\", numeric_pipeline, num_cols)\n",
    "                       ])"
   ]
  },
  {
   "cell_type": "markdown",
   "metadata": {},
   "source": [
    "# Logistic Model"
   ]
  },
  {
   "cell_type": "code",
   "execution_count": 58,
   "metadata": {},
   "outputs": [
    {
     "name": "stdout",
     "output_type": "stream",
     "text": [
      "The score of the model is:  0.6576535807218011\n"
     ]
    }
   ],
   "source": [
    "#making a baseline logistic regression model. Logistic regression isn't good for multi class\n",
    "#classification but it's worth seeing how it would do.\n",
    "\n",
    "LogModel_pipe = Pipeline(steps= [('preproccess', ct),\n",
    "                                 ('SMOTE', SMOTE(random_state=42)),\n",
    "                                 ('model', LogisticRegression(solver = 'liblinear'))])\n",
    "\n",
    "LogModel_pipe.fit(X_train,y_train)\n",
    "\n",
    "#make predictions\n",
    "y_hat_train = LogModel_pipe.predict(X_train)\n",
    "y_pred = LogModel_pipe.predict(X_test)\n",
    "\n",
    "#score on test data\n",
    "print('The score of the model is: ',LogModel_pipe.score(X_test,y_test))"
   ]
  },
  {
   "cell_type": "code",
   "execution_count": 59,
   "metadata": {
    "scrolled": false
   },
   "outputs": [
    {
     "data": {
      "image/png": "[encoded data removed]",
      "text/plain": [
       "<Figure size 504x432 with 2 Axes>"
      ]
     },
     "metadata": {
      "needs_background": "light"
     },
     "output_type": "display_data"
    }
   ],
   "source": [
    "#create a confusion matrix\n",
    "cm = confusion_matrix(y_test, y_pred)\n",
    "\n",
    "cm_df = pd.DataFrame(cm,\n",
    "                     index = ['Functional','Non-Functional','Needs Repair'], \n",
    "                     columns = ['Functional','Non-Functional','Needs Repair'])\n",
    "\n",
    "#Plotting the confusion matrix\n",
    "plt.figure(figsize=(7,6))\n",
    "sns.heatmap(cm_df, annot=True,fmt='g')\n",
    "plt.title('Confusion Matrix')\n",
    "plt.ylabel('Actual Values')\n",
    "plt.xlabel('Predicted Values')\n",
    "plt.show()"
   ]
  },
  {
   "cell_type": "code",
   "execution_count": 60,
   "metadata": {},
   "outputs": [],
   "source": [
    "with open('LogModel.pickle', 'wb') as f:\n",
    "    pickle.dump(LogModel_pipe, f)"
   ]
  },
  {
   "cell_type": "markdown",
   "metadata": {},
   "source": [
    "# Logistic with undersampler"
   ]
  },
  {
   "cell_type": "code",
   "execution_count": 61,
   "metadata": {},
   "outputs": [
    {
     "name": "stdout",
     "output_type": "stream",
     "text": [
      "The score of the model is:  0.6479239733001471\n"
     ]
    }
   ],
   "source": [
    "#making a baseline logistic regression model. Logistic regression isn't good for multi class\n",
    "#classification but it's worth seeing how it would do.\n",
    "\n",
    "LogModelRandomUndersampler_pipe = Pipeline(steps= [('preproccess', ct),\n",
    "                                                   ('RandomUnderSampler', RandomUnderSampler(random_state=42)),\n",
    "                                                   ('model', LogisticRegression(solver = 'liblinear'))])\n",
    "\n",
    "LogModelRandomUndersampler_pipe.fit(X_train,y_train)\n",
    "\n",
    "#make predictions\n",
    "y_hat_train = LogModelRandomUndersampler_pipe.predict(X_train)\n",
    "y_hat_pred = LogModelRandomUndersampler_pipe.predict(X_test)\n",
    "\n",
    "#score on test data\n",
    "print('The score of the model is: ',LogModelRandomUndersampler_pipe.score(X_test,y_test))"
   ]
  },
  {
   "cell_type": "code",
   "execution_count": 63,
   "metadata": {},
   "outputs": [
    {
     "data": {
      "image/png": "[encoded data removed]",
      "text/plain": [
       "<Figure size 504x432 with 2 Axes>"
      ]
     },
     "metadata": {
      "needs_background": "light"
     },
     "output_type": "display_data"
    }
   ],
   "source": [
    "#create a confusion matrix\n",
    "cm = confusion_matrix(y_test, y_pred)\n",
    "\n",
    "cm_df = pd.DataFrame(cm,\n",
    "                     index = ['Functional','Non-Functional','Needs Repair'], \n",
    "                     columns = ['Functional','Non-Functional','Needs Repair'])\n",
    "\n",
    "#Plotting the confusion matrix\n",
    "plt.figure(figsize=(7,6))\n",
    "sns.heatmap(cm_df, annot=True,fmt='g')\n",
    "plt.title('Confusion Matrix')\n",
    "plt.ylabel('Actual Values')\n",
    "plt.xlabel('Predicted Values')\n",
    "plt.show()"
   ]
  },
  {
   "cell_type": "markdown",
   "metadata": {},
   "source": [
    "# Baseline Desicion Tree Model with SMOTE"
   ]
  },
  {
   "cell_type": "code",
   "execution_count": 64,
   "metadata": {},
   "outputs": [
    {
     "data": {
      "text/plain": [
       "Pipeline(steps=[('preproccess',\n",
       "                 ColumnTransformer(transformers=[('nominalpipe',\n",
       "                                                  Pipeline(steps=[('onehotimputer',\n",
       "                                                                   SimpleImputer(strategy='most_frequent')),\n",
       "                                                                  ('onehotenc',\n",
       "                                                                   OneHotEncoder(handle_unknown='ignore')),\n",
       "                                                                  ('onehotnorm',\n",
       "                                                                   MaxAbsScaler())]),\n",
       "                                                  ['installer', 'funder',\n",
       "                                                   'basin', 'region',\n",
       "                                                   'scheme_management',\n",
       "                                                   'extraction_type',\n",
       "                                                   'management', 'payment',\n",
       "                                                   'quality_grou...tity',\n",
       "                                                   'source',\n",
       "                                                   'waterpoint_type']),\n",
       "                                                 ('numpipe',\n",
       "                                                  Pipeline(steps=[('numimputer',\n",
       "                                                                   SimpleImputer(strategy='median')),\n",
       "                                                                  ('numnorm',\n",
       "                                                                   StandardScaler())]),\n",
       "                                                  ['amount_tsh', 'longitude',\n",
       "                                                   'latitude', 'region_code',\n",
       "                                                   'district_code',\n",
       "                                                   'population',\n",
       "                                                   'construction_year'])])),\n",
       "                ('SMOTE', SMOTE(random_state=42)),\n",
       "                ('model',\n",
       "                 DecisionTreeClassifier(criterion='entropy', random_state=42))])"
      ]
     },
     "execution_count": 64,
     "metadata": {},
     "output_type": "execute_result"
    }
   ],
   "source": [
    "#Making a basic desicion tree model. Usually we don't use SMOTE in baseline models but \n",
    "#have to here because the data is imbalanced.\n",
    "\n",
    "BaseTreeModel_pipe = Pipeline(steps= [('preproccess', ct),\n",
    "                                      ('SMOTE', SMOTE(random_state=42)),\n",
    "                                      ('model',  DecisionTreeClassifier(criterion='entropy', \n",
    "                                                                        random_state = 42))])\n",
    "\n",
    "BaseTreeModel_pipe.fit(X_train,y_train)"
   ]
  },
  {
   "cell_type": "code",
   "execution_count": 66,
   "metadata": {},
   "outputs": [
    {
     "name": "stdout",
     "output_type": "stream",
     "text": [
      "              precision    recall  f1-score   support\n",
      "\n",
      "           0       0.81      0.77      0.79      4784\n",
      "           1       0.36      0.47      0.41       676\n",
      "           2       0.77      0.78      0.77      3379\n",
      "\n",
      "    accuracy                           0.75      8839\n",
      "   macro avg       0.65      0.68      0.66      8839\n",
      "weighted avg       0.76      0.75      0.76      8839\n",
      "\n",
      "Accuracy is :75.18950107478221\n"
     ]
    },
    {
     "data": {
      "image/png": "[encoded data removed]",
      "text/plain": [
       "<Figure size 504x432 with 2 Axes>"
      ]
     },
     "metadata": {
      "needs_background": "light"
     },
     "output_type": "display_data"
    }
   ],
   "source": [
    "# make predictions\n",
    "y_pred = BaseTreeModel_pipe.predict(X_test)\n",
    "\n",
    "# Confusion matrix and classification report\n",
    "print(classification_report(y_test, y_pred))\n",
    "\n",
    "# Calculate accuracy \n",
    "acc = accuracy_score(y_test, y_pred) * 100\n",
    "print('Accuracy is :{0}'.format(acc))\n",
    "\n",
    "cm = confusion_matrix(y_test, y_pred)\n",
    "\n",
    "cm_df = pd.DataFrame(cm,\n",
    "                     index = ['Functional','Non-Functional','Needs Repair'], \n",
    "                     columns = ['Functional','Non-Functional','Needs Repair'])\n",
    "\n",
    "#Plotting the confusion matrix\n",
    "plt.figure(figsize=(7,6))\n",
    "sns.heatmap(cm_df, annot=True,fmt='g')\n",
    "plt.title('Confusion Matrix')\n",
    "plt.ylabel('Actual Values')\n",
    "plt.xlabel('Predicted Values')\n",
    "plt.show()"
   ]
  },
  {
   "cell_type": "code",
   "execution_count": 68,
   "metadata": {},
   "outputs": [
    {
     "data": {
      "text/plain": [
       "array(['x0_acra', 'x0_adra', 'x0_adra /community', 'x0_adra/community',\n",
       "       'x0_aict', 'x0_amref', 'x0_angli', 'x0_cefa',\n",
       "       'x0_central government', 'x0_ces', 'x0_chamavita', 'x0_co',\n",
       "       'x0_community', 'x0_consulting engineer', 'x0_da', 'x0_danid',\n",
       "       'x0_danida', 'x0_dawasco', 'x0_ddca', 'x0_ded', 'x0_dh', 'x0_dhv',\n",
       "       'x0_district council', 'x0_district water department', 'x0_dmdd',\n",
       "       'x0_dw', 'x0_dwe', 'x0_dwsp', 'x0_fin water', 'x0_fini water',\n",
       "       'x0_finwater', 'x0_fw', 'x0_gen', 'x0_go', 'x0_government',\n",
       "       'x0_gtz', 'x0_h', 'x0_halmashauri ya wilaya sikonge',\n",
       "       'x0_handeni trunk main(', 'x0_he', 'x0_hesawa', 'x0_hsw',\n",
       "       'x0_idara ya maji', 'x0_ir', 'x0_is', 'x0_isf', 'x0_jaica',\n",
       "       'x0_jica', 'x0_ki', 'x0_kiliwater', 'x0_kkkt',\n",
       "       'x0_kkkt _ konde and dwe', 'x0_kkkt church', 'x0_kuwait',\n",
       "       'x0_lawatefuka water sup', 'x0_lga', 'x0_local te',\n",
       "       'x0_losaa-kia water supp', 'x0_lvia', 'x0_lwi',\n",
       "       'x0_magadini-makiwaru wa', 'x0_mdrdp', 'x0_missi', 'x0_mission',\n",
       "       'x0_mtn', 'x0_muwsa', 'x0_mwe', 'x0_ncaa', 'x0_norad',\n",
       "       'x0_oikos e .africa', 'x0_oxfam', 'x0_oxfarm', 'x0_pr', 'x0_priva',\n",
       "       'x0_private', 'x0_rc church', 'x0_rdc',\n",
       "       'x0_region water department', 'x0_roman', 'x0_rwe', 'x0_rwe/dwe',\n",
       "       'x0_rwssp', 'x0_sema', 'x0_sengerema water department', 'x0_shipo',\n",
       "       'x0_st', 'x0_tardo', 'x0_tasaf', 'x0_tassaf', 'x0_tcrs', 'x0_tlc',\n",
       "       'x0_twe', 'x0_twesa', 'x0_unicef', 'x0_unknown', 'x0_villa',\n",
       "       'x0_village council', 'x0_villagers', 'x0_vwc', 'x0_wa',\n",
       "       'x0_wachina', 'x0_wanan', 'x0_wananchi', 'x0_water',\n",
       "       'x0_water aid', 'x0_water board', 'x0_wedeco', 'x0_wizara ya maji',\n",
       "       'x0_world', 'x0_world bank', 'x0_world vision', 'x0_wu', 'x0_wvt',\n",
       "       'x1_adb', 'x1_adra', 'x1_african', 'x1_aict', 'x1_amref',\n",
       "       'x1_anglican church', 'x1_bsf', 'x1_caritas', 'x1_cefa',\n",
       "       'x1_ces (gmbh)', 'x1_ces(gmbh)', 'x1_cmsr', 'x1_co',\n",
       "       'x1_community', 'x1_conce', 'x1_concern', 'x1_concern world wide',\n",
       "       'x1_danida', 'x1_ded', 'x1_dfid', 'x1_dh', 'x1_dhv',\n",
       "       'x1_district council', 'x1_dmdd', 'x1_dwe', 'x1_dwsp',\n",
       "       'x1_fin water', 'x1_fini water', 'x1_finida german tanzania govt',\n",
       "       'x1_finw', 'x1_fw', 'x1_gen', 'x1_germany', 'x1_germany republi',\n",
       "       'x1_go', 'x1_government of tanzania', 'x1_gtz', 'x1_h',\n",
       "       'x1_halmashauri ya wilaya sikonge', 'x1_he', 'x1_hesawa',\n",
       "       'x1_hifab', 'x1_hsw', 'x1_idara ya maji', 'x1_idc', 'x1_ir',\n",
       "       'x1_irish ai', 'x1_is', 'x1_isf', 'x1_jaica', 'x1_japan',\n",
       "       'x1_jica', 'x1_ki', 'x1_kibaha town council',\n",
       "       'x1_kilindi district co', 'x1_kiliwater', 'x1_kirde', 'x1_kkkt',\n",
       "       'x1_kkkt church', 'x1_kkkt_makwale', 'x1_kuwait', 'x1_lamp',\n",
       "       'x1_lawatefuka water supply', 'x1_lga',\n",
       "       'x1_losaa-kia water supply', 'x1_lvia', 'x1_lwi',\n",
       "       'x1_magadini-makiwaru water', 'x1_md', 'x1_mdrdp',\n",
       "       'x1_ministry of water', 'x1_missi', 'x1_mission',\n",
       "       'x1_mkinga  distric cou', 'x1_mkinga distric coun', 'x1_muwsa',\n",
       "       'x1_national rural', 'x1_ncaa', 'x1_ndrdp', 'x1_nethalan',\n",
       "       'x1_netherlands', 'x1_no', 'x1_norad', 'x1_oikos e.afrika',\n",
       "       'x1_oxfam', 'x1_oxfarm', 'x1_plan int', 'x1_private',\n",
       "       'x1_private individual', 'x1_rc', 'x1_rc ch', 'x1_rc church',\n",
       "       'x1_roman', 'x1_roman catholic', 'x1_ru', 'x1_rudep',\n",
       "       'x1_rural water supply and sanitat', 'x1_rwssp', 'x1_sabemo',\n",
       "       'x1_shipo', 'x1_snv', 'x1_solidarm', 'x1_st', 'x1_swedish',\n",
       "       'x1_tanza', 'x1_tardo', 'x1_tasaf', 'x1_tassaf', 'x1_tcrs',\n",
       "       'x1_tlc', 'x1_twe', 'x1_twesa', 'x1_undp', 'x1_unhcr', 'x1_unice',\n",
       "       'x1_unicef', 'x1_unknown', 'x1_villagers', 'x1_vwc', 'x1_w.b',\n",
       "       'x1_wananchi', 'x1_water', 'x1_wateraid', 'x1_world bank',\n",
       "       'x1_world vision', 'x1_wsdp', 'x1_wua', 'x1_wvt', 'x2_Internal',\n",
       "       'x2_Lake Nyasa', 'x2_Lake Rukwa', 'x2_Lake Tanganyika',\n",
       "       'x2_Lake Victoria', 'x2_Pangani', 'x2_Rufiji', 'x2_Ruvuma',\n",
       "       'x2_Wami', 'x3_Arusha', 'x3_Dar es Salaam', 'x3_Dodoma',\n",
       "       'x3_Iringa', 'x3_Kagera', 'x3_Kigoma', 'x3_Kilimanjaro',\n",
       "       'x3_Lindi', 'x3_Manyara', 'x3_Mara', 'x3_Mbeya', 'x3_Morogoro',\n",
       "       'x3_Mtwara', 'x3_Mwanza', 'x3_Pwani', 'x3_Rukwa', 'x3_Ruvuma',\n",
       "       'x3_Shinyanga', 'x3_Singida', 'x3_Tabora', 'x3_Tanga',\n",
       "       'x4_Company', 'x4_None', 'x4_Other', 'x4_Parastatal',\n",
       "       'x4_Private operator', 'x4_SWC', 'x4_Trust', 'x4_VWC', 'x4_WUA',\n",
       "       'x4_WUG', 'x4_Water Board', 'x4_Water authority', 'x5_afridev',\n",
       "       'x5_cemo', 'x5_climax', 'x5_gravity', 'x5_india mark ii',\n",
       "       'x5_india mark iii', 'x5_ksb', 'x5_mono', 'x5_nira/tanira',\n",
       "       'x5_other', 'x5_other - mkulima/shinyanga', 'x5_other - play pump',\n",
       "       'x5_other - rope pump', 'x5_other - swn 81', 'x5_submersible',\n",
       "       'x5_swn 80', 'x5_walimi', 'x5_windmill', 'x6_company', 'x6_other',\n",
       "       'x6_other - school', 'x6_parastatal', 'x6_private operator',\n",
       "       'x6_trust', 'x6_unknown', 'x6_vwc', 'x6_water authority',\n",
       "       'x6_water board', 'x6_wua', 'x6_wug', 'x7_never pay', 'x7_other',\n",
       "       'x7_pay annually', 'x7_pay monthly', 'x7_pay per bucket',\n",
       "       'x7_pay when scheme fails', 'x7_unknown', 'x8_colored',\n",
       "       'x8_fluoride', 'x8_good', 'x8_milky', 'x8_salty', 'x8_unknown',\n",
       "       'x9_dry', 'x9_enough', 'x9_insufficient', 'x9_seasonal',\n",
       "       'x9_unknown', 'x10_dam', 'x10_hand dtw', 'x10_lake',\n",
       "       'x10_machine dbh', 'x10_other', 'x10_rainwater harvesting',\n",
       "       'x10_river', 'x10_shallow well', 'x10_spring', 'x10_unknown',\n",
       "       'x11_cattle trough', 'x11_communal standpipe',\n",
       "       'x11_communal standpipe multiple', 'x11_dam', 'x11_hand pump',\n",
       "       'x11_improved spring', 'x11_other'], dtype=object)"
      ]
     },
     "execution_count": 68,
     "metadata": {},
     "output_type": "execute_result"
    }
   ],
   "source": [
    "BaseTreeModel_pipe[0].transformers_[0][1].named_steps['onehotenc'].get_feature_names()"
   ]
  },
  {
   "cell_type": "code",
   "execution_count": 69,
   "metadata": {},
   "outputs": [],
   "source": [
    "with open('BestModel.pickle', 'wb') as f:\n",
    "    pickle.dump(BaseTreeModel_pipe, f)"
   ]
  },
  {
   "cell_type": "markdown",
   "metadata": {},
   "source": [
    "# Baseline Desicion Tree Model with random under sampler"
   ]
  },
  {
   "cell_type": "code",
   "execution_count": 70,
   "metadata": {},
   "outputs": [
    {
     "data": {
      "text/plain": [
       "Pipeline(steps=[('preproccess',\n",
       "                 ColumnTransformer(transformers=[('nominalpipe',\n",
       "                                                  Pipeline(steps=[('onehotimputer',\n",
       "                                                                   SimpleImputer(strategy='most_frequent')),\n",
       "                                                                  ('onehotenc',\n",
       "                                                                   OneHotEncoder(handle_unknown='ignore')),\n",
       "                                                                  ('onehotnorm',\n",
       "                                                                   MaxAbsScaler())]),\n",
       "                                                  ['installer', 'funder',\n",
       "                                                   'basin', 'region',\n",
       "                                                   'scheme_management',\n",
       "                                                   'extraction_type',\n",
       "                                                   'management', 'payment',\n",
       "                                                   'quality_grou...\n",
       "                                                   'waterpoint_type']),\n",
       "                                                 ('numpipe',\n",
       "                                                  Pipeline(steps=[('numimputer',\n",
       "                                                                   SimpleImputer(strategy='median')),\n",
       "                                                                  ('numnorm',\n",
       "                                                                   StandardScaler())]),\n",
       "                                                  ['amount_tsh', 'longitude',\n",
       "                                                   'latitude', 'region_code',\n",
       "                                                   'district_code',\n",
       "                                                   'population',\n",
       "                                                   'construction_year'])])),\n",
       "                ('RandomUnderSampler', RandomUnderSampler(random_state=42)),\n",
       "                ('model',\n",
       "                 DecisionTreeClassifier(criterion='entropy', random_state=42))])"
      ]
     },
     "execution_count": 70,
     "metadata": {},
     "output_type": "execute_result"
    }
   ],
   "source": [
    "#Making a basic desicion tree model. Usually we don't use SMOTE in baseline models but \n",
    "#have to here because the data is imbalanced.\n",
    "\n",
    "BaseTreeModelRandom_pipe = Pipeline(steps= [('preproccess', ct),\n",
    "                                            ('RandomUnderSampler', RandomUnderSampler(random_state=42)),\n",
    "                                            ('model',  DecisionTreeClassifier(criterion='entropy', \n",
    "                                                                        random_state = 42))])\n",
    "\n",
    "BaseTreeModelRandom_pipe.fit(X_train,y_train)"
   ]
  },
  {
   "cell_type": "code",
   "execution_count": 87,
   "metadata": {},
   "outputs": [
    {
     "name": "stdout",
     "output_type": "stream",
     "text": [
      "              precision    recall  f1-score   support\n",
      "\n",
      "           0       0.81      0.61      0.69      4784\n",
      "           1       0.23      0.65      0.34       676\n",
      "           2       0.73      0.72      0.72      3379\n",
      "\n",
      "    accuracy                           0.65      8839\n",
      "   macro avg       0.59      0.66      0.59      8839\n",
      "weighted avg       0.73      0.65      0.68      8839\n",
      "\n",
      "Accuracy is :65.30150469510126\n"
     ]
    },
    {
     "data": {
      "image/png": "[encoded data removed]",
      "text/plain": [
       "<Figure size 504x432 with 2 Axes>"
      ]
     },
     "metadata": {
      "needs_background": "light"
     },
     "output_type": "display_data"
    }
   ],
   "source": [
    "# make predictions\n",
    "y_pred = BaseTreeModelRandom_pipe.predict(X_test)\n",
    "\n",
    "# Confusion matrix and classification report\n",
    "print(classification_report(y_test, y_pred))\n",
    "\n",
    "# Calculate accuracy \n",
    "acc = accuracy_score(y_test, y_pred) * 100\n",
    "print('Accuracy is :{0}'.format(acc))\n",
    "\n",
    "cm = confusion_matrix(y_test, y_pred)\n",
    "cm_df = pd.DataFrame(cm,\n",
    "                     index = ['Functional','Non-Functional','Needs Repair'], \n",
    "                     columns = ['Functional','Non-Functional','Needs Repair'])\n",
    "\n",
    "#Plotting the confusion matrix\n",
    "plt.figure(figsize=(7,6))\n",
    "sns.heatmap(cm_df, annot=True, fmt='g')\n",
    "plt.title('Confusion Matrix')\n",
    "plt.ylabel('Actual Values')\n",
    "plt.xlabel('Predicted Values')\n",
    "plt.show()"
   ]
  },
  {
   "cell_type": "markdown",
   "metadata": {},
   "source": [
    "# Tree Model with hyperparameter discovery"
   ]
  },
  {
   "cell_type": "code",
   "execution_count": 72,
   "metadata": {},
   "outputs": [],
   "source": [
    "# Find the best hyperparameters for tuning the tree\n",
    "HyperTreeModel_Pipe = Pipeline(steps= [('preproccess', ct),\n",
    "                                       ('SMOTE', SMOTE(random_state = 42)),\n",
    "                                       ('tree',  DecisionTreeClassifier(random_state = 42))\n",
    "                                      ])\n",
    " \n",
    "\n",
    "# Create the grid parameter\n",
    "grid = [{\n",
    "        'tree__criterion': ['gini', 'entropy'],\n",
    "        'tree__max_depth': [2, 6, 10], \n",
    "        'tree__min_samples_split': [5, 10]}]\n",
    "\n",
    "\n",
    "# Create the gridsearch\n",
    "gridsearch = GridSearchCV(estimator=HyperTreeModel_Pipe, \n",
    "                          param_grid=grid, \n",
    "                          scoring='accuracy', \n",
    "                          cv=3)"
   ]
  },
  {
   "cell_type": "code",
   "execution_count": 74,
   "metadata": {},
   "outputs": [
    {
     "name": "stdout",
     "output_type": "stream",
     "text": [
      "0.6379680959384546\n",
      "{'tree__criterion': 'gini', 'tree__max_depth': 10, 'tree__min_samples_split': 10}\n",
      "Accuracy is :63.79680959384546\n"
     ]
    }
   ],
   "source": [
    "# Fit using grid search\n",
    "gridsearch.fit(X_train, y_train)\n",
    "\n",
    "# Calculate the test score\n",
    "print(gridsearch.score(X_test, y_test))\n",
    "\n",
    "#these parameters are the best for this model\n",
    "print(gridsearch.best_params_)\n",
    "\n",
    "#Calculate accuracy \n",
    "acc = accuracy_score(y_test, gridsearch.predict(X_test)) * 100\n",
    "print('Accuracy is :{0}'.format(acc))"
   ]
  },
  {
   "cell_type": "markdown",
   "metadata": {},
   "source": [
    "# Desicion Tree Model with calculated parameters"
   ]
  },
  {
   "cell_type": "code",
   "execution_count": 61,
   "metadata": {},
   "outputs": [
    {
     "name": "stdout",
     "output_type": "stream",
     "text": [
      "0.681864464305917\n"
     ]
    }
   ],
   "source": [
    "# Create the pipeline\n",
    "CalculatedTreeModel_Pipe = Pipeline(steps= [('preproccess', ct),\n",
    "                                            ('SMOTE', SMOTE()),\n",
    "                                            ('tree',  DecisionTreeClassifier(random_state = 42))\n",
    "                                           ])\n",
    " \n",
    "CalculatedTreeModel_Pipe.fit(X_train,y_train)\n",
    "\n",
    "# Create the grid parameter\n",
    "grid = [{\n",
    "        'tree__criterion': ['gini'],\n",
    "        'tree__max_depth': [10], \n",
    "        'tree__min_samples_split': [10]}]\n",
    "\n",
    "# Create the grid, with \"pipe\" as the estimator\n",
    "gridsearch = GridSearchCV(estimator=CalculatedTreeModel_Pipe, \n",
    "                          param_grid=grid, \n",
    "                          scoring='accuracy', \n",
    "                          cv=2)\n",
    "\n",
    "# Fit using grid search\n",
    "gridsearch.fit(X_train, y_train)\n",
    "\n",
    "# Calculate the test score\n",
    "print(gridsearch.score(X_test, y_test))"
   ]
  },
  {
   "cell_type": "code",
   "execution_count": 88,
   "metadata": {},
   "outputs": [
    {
     "name": "stdout",
     "output_type": "stream",
     "text": [
      "Accuracy is :69.99660595089942\n"
     ]
    },
    {
     "data": {
      "image/png": "[encoded data removed]",
      "text/plain": [
       "<Figure size 504x432 with 2 Axes>"
      ]
     },
     "metadata": {
      "needs_background": "light"
     },
     "output_type": "display_data"
    }
   ],
   "source": [
    "# ct.transform(X_test)\n",
    "y_pred = gridsearch.predict(X_test)\n",
    "\n",
    "# Calculate accuracy \n",
    "acc = accuracy_score(y_test, y_pred) * 100\n",
    "print('Accuracy is :{0}'.format(acc))\n",
    "\n",
    "cm = confusion_matrix(y_test, y_pred)\n",
    "cm_df = pd.DataFrame(cm,\n",
    "                     index = ['Functional','Non-Functional','Needs Repair'], \n",
    "                     columns = ['Functional','Non-Functional','Needs Repair'])\n",
    "\n",
    "#Plotting the confusion matrix\n",
    "plt.figure(figsize=(7,6))\n",
    "sns.heatmap(cm_df, annot=True, fmt='g')\n",
    "plt.title('Confusion Matrix')\n",
    "plt.ylabel('Actual Values')\n",
    "plt.xlabel('Predicted Values')\n",
    "plt.show()"
   ]
  },
  {
   "cell_type": "code",
   "execution_count": 70,
   "metadata": {},
   "outputs": [],
   "source": [
    "with open('CalculatedTreeModel.pickle', 'wb') as f:\n",
    "    pickle.dump(CalculatedTreeModel_Pipe, f)"
   ]
  },
  {
   "cell_type": "markdown",
   "metadata": {},
   "source": [
    "# Random Forest "
   ]
  },
  {
   "cell_type": "code",
   "execution_count": 75,
   "metadata": {},
   "outputs": [
    {
     "name": "stdout",
     "output_type": "stream",
     "text": [
      "0.6999660595089943\n"
     ]
    }
   ],
   "source": [
    "RandomForest_Pipe = Pipeline(steps= [('preproccess', ct),\n",
    "                                     ('SMOTE', SMOTE(random_state=42)),\n",
    "                                     ('tree',  RandomForestClassifier(n_estimators=100, max_depth= 5, random_state = 42))\n",
    "                                    ])\n",
    "\n",
    "\n",
    "# Create the grid, with \"pipe\" as the estimator\n",
    "gridsearch = GridSearchCV(estimator=RandomForest_Pipe, \n",
    "                          param_grid=grid, \n",
    "                          scoring='accuracy', \n",
    "                          cv=3)\n",
    "\n",
    "# Fit using grid search\n",
    "gridsearch.fit(X_train, y_train)\n",
    "\n",
    "# Calculate the test score\n",
    "print(gridsearch.score(X_test, y_test))\n"
   ]
  },
  {
   "cell_type": "code",
   "execution_count": 89,
   "metadata": {},
   "outputs": [
    {
     "name": "stdout",
     "output_type": "stream",
     "text": [
      "Accuracy is :69.99660595089942\n"
     ]
    },
    {
     "data": {
      "image/png": "[encoded data removed]",
      "text/plain": [
       "<Figure size 504x432 with 2 Axes>"
      ]
     },
     "metadata": {
      "needs_background": "light"
     },
     "output_type": "display_data"
    }
   ],
   "source": [
    "# ct.transform(X_test)\n",
    "y_pred = gridsearch.predict(X_test)\n",
    "\n",
    "# Calculate accuracy \n",
    "acc = accuracy_score(y_test, y_pred) * 100\n",
    "print('Accuracy is :{0}'.format(acc))\n",
    "\n",
    "cm = confusion_matrix(y_test, y_pred)\n",
    "cm_df = pd.DataFrame(cm,\n",
    "                     index = ['Functional','Non-Functional','Needs Repair'], \n",
    "                     columns = ['Functional','Non-Functional','Needs Repair'])\n",
    "\n",
    "#Plotting the confusion matrix\n",
    "plt.figure(figsize=(7,6))\n",
    "sns.heatmap(cm_df, annot=True, fmt='g')\n",
    "plt.title('Confusion Matrix')\n",
    "plt.ylabel('Actual Values')\n",
    "plt.xlabel('Predicted Values')\n",
    "plt.show()"
   ]
  },
  {
   "cell_type": "code",
   "execution_count": 79,
   "metadata": {},
   "outputs": [
    {
     "name": "stdout",
     "output_type": "stream",
     "text": [
      "Precision Score: 0.7755794540498681\n",
      "Recall Score: 0.6999660595089943\n",
      "Accuracy Score: 0.6999660595089943\n"
     ]
    }
   ],
   "source": [
    "# Complete the function\n",
    "def print_metrics(labels, preds):\n",
    "    print(\"Precision Score: {}\".format(precision_score(labels, preds, average='weighted')))\n",
    "    print(\"Recall Score: {}\".format(recall_score(labels, preds, average='weighted')))\n",
    "    print(\"Accuracy Score: {}\".format(accuracy_score(labels, preds)))\n",
    "    \n",
    "print_metrics(y_test, y_pred)"
   ]
  },
  {
   "cell_type": "code",
   "execution_count": 80,
   "metadata": {},
   "outputs": [],
   "source": [
    "with open('RandomForest.pickle', 'wb') as f:\n",
    "    pickle.dump(RandomForest_Pipe, f)"
   ]
  },
  {
   "cell_type": "markdown",
   "metadata": {},
   "source": [
    "# KNN Model"
   ]
  },
  {
   "cell_type": "code",
   "execution_count": 81,
   "metadata": {},
   "outputs": [],
   "source": [
    "# Create the pipeline\n",
    "KnnModel_Pipe = Pipeline(steps= [('preproccess', ct),\n",
    "                                ('SMOTE', SMOTE()),\n",
    "                                ('Knn',  KNeighborsClassifier())\n",
    "                                ])\n",
    "\n",
    "# Fit the pipeline\n",
    "KnnModel_Pipe.fit(X_train,y_train)\n",
    "\n",
    "# Predict on the test set\n",
    "y_preds = KnnModel_Pipe.predict(X_test)"
   ]
  },
  {
   "cell_type": "code",
   "execution_count": 90,
   "metadata": {},
   "outputs": [
    {
     "name": "stdout",
     "output_type": "stream",
     "text": [
      "Accuracy is :69.99660595089942\n"
     ]
    },
    {
     "data": {
      "image/png": "[encoded data removed]",
      "text/plain": [
       "<Figure size 504x432 with 2 Axes>"
      ]
     },
     "metadata": {
      "needs_background": "light"
     },
     "output_type": "display_data"
    }
   ],
   "source": [
    "# Calculate accuracy \n",
    "acc = accuracy_score(y_test, y_pred) * 100\n",
    "print('Accuracy is :{0}'.format(acc))\n",
    "\n",
    "cm = confusion_matrix(y_test, y_pred)\n",
    "cm_df = pd.DataFrame(cm,\n",
    "                     index = ['Functional','Non-Functional','Needs Repair'], \n",
    "                     columns = ['Functional','Non-Functional','Needs Repair'])\n",
    "\n",
    "#Plotting the confusion matrix\n",
    "plt.figure(figsize=(7,6))\n",
    "sns.heatmap(cm_df, annot=True, fmt='g')\n",
    "plt.title('Confusion Matrix')\n",
    "plt.ylabel('Actual Values')\n",
    "plt.xlabel('Predicted Values')\n",
    "plt.show()"
   ]
  },
  {
   "cell_type": "code",
   "execution_count": 83,
   "metadata": {},
   "outputs": [
    {
     "name": "stdout",
     "output_type": "stream",
     "text": [
      "Precision Score: 0.7755794540498681\n",
      "Recall Score: 0.6999660595089943\n",
      "Accuracy Score: 0.6999660595089943\n"
     ]
    }
   ],
   "source": [
    "# Complete the function\n",
    "def print_metrics(labels, preds):\n",
    "    print(\"Precision Score: {}\".format(precision_score(labels, preds, average='weighted')))\n",
    "    print(\"Recall Score: {}\".format(recall_score(labels, preds, average='weighted')))\n",
    "    print(\"Accuracy Score: {}\".format(accuracy_score(labels, preds)))\n",
    "    \n",
    "print_metrics(y_test, y_pred)"
   ]
  },
  {
   "cell_type": "code",
   "execution_count": 84,
   "metadata": {},
   "outputs": [],
   "source": [
    "with open('KnnModelModel.pickle', 'wb') as f:\n",
    "    pickle.dump(KnnModel_Pipe, f)"
   ]
  },
  {
   "cell_type": "markdown",
   "metadata": {},
   "source": [
    "# XGboost Model"
   ]
  },
  {
   "cell_type": "code",
   "execution_count": 118,
   "metadata": {},
   "outputs": [
    {
     "name": "stdout",
     "output_type": "stream",
     "text": [
      "Training Accuracy: 78.76%\n",
      "Validation accuracy: 75.69%\n"
     ]
    }
   ],
   "source": [
    "# Create the pipeline\n",
    "XgbModel_Pipe = Pipeline(steps= [('preproccess', ct),\n",
    "                                  ('SMOTE', SMOTE(random_state = 42)),\n",
    "                                  ('tree',  XGBClassifier())\n",
    "                                ])\n",
    "# Fit XGBClassifier\n",
    "XgbModel_Pipe.fit(X_train,y_train)\n",
    "\n",
    "# Predict on training and test sets\n",
    "training_preds = XgbModel_Pipe.predict(X_train)\n",
    "test_preds = XgbModel_Pipe.predict(X_test)\n",
    "\n",
    "# Accuracy of training and test sets\n",
    "training_accuracy = accuracy_score(y_train, training_preds)\n",
    "test_accuracy = accuracy_score(y_test, test_preds)\n",
    "\n",
    "print('Training Accuracy: {:.4}%'.format(training_accuracy * 100))\n",
    "print('Validation accuracy: {:.4}%'.format(test_accuracy * 100))"
   ]
  },
  {
   "cell_type": "code",
   "execution_count": 155,
   "metadata": {},
   "outputs": [
    {
     "data": {
      "image/png": "[encoded data removed]",
      "text/plain": [
       "<Figure size 432x432 with 2 Axes>"
      ]
     },
     "metadata": {
      "needs_background": "light"
     },
     "output_type": "display_data"
    }
   ],
   "source": [
    "cm = confusion_matrix(y_test, test_preds)\n",
    "cm_df = pd.DataFrame(cm,\n",
    "                     index = ['Functional','Non-Functional','Needs Repair'], \n",
    "                     columns = ['Functional','Non-Functional','Needs Repair'])\n",
    "\n",
    "#Plotting the confusion matrix\n",
    "plt.figure(figsize=(6,6))\n",
    "sns.heatmap(cm_df, annot=True, fmt='g')\n",
    "plt.title('Confusion Matrix')\n",
    "plt.ylabel('Actual Values')\n",
    "plt.xlabel('Predicted Values')\n",
    "plt.show()"
   ]
  },
  {
   "cell_type": "code",
   "execution_count": 156,
   "metadata": {},
   "outputs": [
    {
     "name": "stdout",
     "output_type": "stream",
     "text": [
      "Precision Score: 0.783316863868421\n",
      "Recall Score: 0.7603801334992646\n",
      "Accuracy Score: 0.7603801334992646\n"
     ]
    }
   ],
   "source": [
    "# Complete the function\n",
    "def print_metrics(labels, test_preds):\n",
    "    print(\"Precision Score: {}\".format(precision_score(labels, test_preds, average='weighted')))\n",
    "    print(\"Recall Score: {}\".format(recall_score(labels, test_preds, average='weighted')))\n",
    "    print(\"Accuracy Score: {}\".format(accuracy_score(labels, test_preds)))\n",
    "    \n",
    "print_metrics(y_test, test_preds)"
   ]
  },
  {
   "cell_type": "code",
   "execution_count": 157,
   "metadata": {},
   "outputs": [
    {
     "data": {
      "text/html": [
       "<div>\n",
       "<style scoped>\n",
       "    .dataframe tbody tr th:only-of-type {\n",
       "        vertical-align: middle;\n",
       "    }\n",
       "\n",
       "    .dataframe tbody tr th {\n",
       "        vertical-align: top;\n",
       "    }\n",
       "\n",
       "    .dataframe thead th {\n",
       "        text-align: right;\n",
       "    }\n",
       "</style>\n",
       "<table border=\"1\" class=\"dataframe\">\n",
       "  <thead>\n",
       "    <tr style=\"text-align: right;\">\n",
       "      <th></th>\n",
       "      <th>0</th>\n",
       "      <th>1</th>\n",
       "    </tr>\n",
       "  </thead>\n",
       "  <tbody>\n",
       "    <tr>\n",
       "      <th>0</th>\n",
       "      <td>amount_tsh</td>\n",
       "      <td>0.001116</td>\n",
       "    </tr>\n",
       "    <tr>\n",
       "      <th>1</th>\n",
       "      <td>date_recorded</td>\n",
       "      <td>0.001644</td>\n",
       "    </tr>\n",
       "    <tr>\n",
       "      <th>2</th>\n",
       "      <td>x0_acra</td>\n",
       "      <td>0.000489</td>\n",
       "    </tr>\n",
       "    <tr>\n",
       "      <th>3</th>\n",
       "      <td>x0_adra</td>\n",
       "      <td>0.005169</td>\n",
       "    </tr>\n",
       "    <tr>\n",
       "      <th>4</th>\n",
       "      <td>x0_adra /community</td>\n",
       "      <td>0.001262</td>\n",
       "    </tr>\n",
       "  </tbody>\n",
       "</table>\n",
       "</div>"
      ],
      "text/plain": [
       "                    0         1\n",
       "0          amount_tsh  0.001116\n",
       "1       date_recorded  0.001644\n",
       "2             x0_acra  0.000489\n",
       "3             x0_adra  0.005169\n",
       "4  x0_adra /community  0.001262"
      ]
     },
     "execution_count": 157,
     "metadata": {},
     "output_type": "execute_result"
    }
   ],
   "source": [
    "importances = XgbModel_Pipe.steps[-1][1].feature_importances_\n",
    "pd.DataFrame(zip(cols, importances)).head()"
   ]
  },
  {
   "cell_type": "code",
   "execution_count": 158,
   "metadata": {},
   "outputs": [],
   "source": [
    "with open('BestXgbModel.pickle', 'wb') as f:\n",
    "           pickle.dump(XgbModel_Pipe, f)"
   ]
  },
  {
   "cell_type": "markdown",
   "metadata": {},
   "source": [
    "# Tuning XGboost"
   ]
  },
  {
   "cell_type": "code",
   "execution_count": 154,
   "metadata": {},
   "outputs": [],
   "source": [
    "# Create the pipeline\n",
    "Tuned_XgbModel_Pipe = Pipeline(steps= [('preproccess', ct),\n",
    "                                       ('SMOTE', SMOTE()),\n",
    "                                       ('tree',  XGBClassifier())\n",
    "                                      ])\n",
    "\n",
    "#parameter tuning \n",
    "grid = {\n",
    "        'tree__learning_rate': [0.1, 0.2],\n",
    "        'tree__max_depth': [6],\n",
    "        'tree__min_child_weight': [1, 2],\n",
    "        'tree__subsample': [0.5, 0.7],\n",
    "        'tree__n_estimators': [100],\n",
    "}\n",
    "\n",
    "# Create the grid, with \"pipe\" as the estimator\n",
    "gridsearch = GridSearchCV(estimator=Tuned_XgbModel_Pipe, \n",
    "                          param_grid=grid, \n",
    "                          scoring='accuracy', \n",
    "                          cv=3)\n",
    "\n",
    "# Fit using grid search\n",
    "gridsearch.fit(X_train, y_train)\n",
    "\n",
    "# Predict on training and test sets\n",
    "training_preds = gridsearch.predict(X_train)\n",
    "test_preds = gridsearch.predict(X_test)"
   ]
  },
  {
   "cell_type": "code",
   "execution_count": 79,
   "metadata": {},
   "outputs": [
    {
     "name": "stdout",
     "output_type": "stream",
     "text": [
      "Training Accuracy: 78.77%\n",
      "Validation accuracy: 76.65%\n"
     ]
    }
   ],
   "source": [
    "# Accuracy of training and test sets\n",
    "training_accuracy = accuracy_score(y_train, training_preds)\n",
    "test_accuracy = accuracy_score(y_test, test_preds)\n",
    "\n",
    "print('Training Accuracy: {:.4}%'.format(training_accuracy * 100))\n",
    "print('Validation accuracy: {:.4}%'.format(test_accuracy * 100))"
   ]
  },
  {
   "cell_type": "code",
   "execution_count": 161,
   "metadata": {},
   "outputs": [
    {
     "name": "stdout",
     "output_type": "stream",
     "text": [
      "              precision    recall  f1-score   support\n",
      "\n",
      "           0       0.81      0.80      0.80      4784\n",
      "           1       0.34      0.54      0.42       676\n",
      "           2       0.83      0.75      0.79      3379\n",
      "\n",
      "    accuracy                           0.76      8839\n",
      "   macro avg       0.66      0.70      0.67      8839\n",
      "weighted avg       0.78      0.76      0.77      8839\n",
      "\n"
     ]
    },
    {
     "data": {
      "image/png": "[encoded data removed]",
      "text/plain": [
       "<Figure size 576x576 with 2 Axes>"
      ]
     },
     "metadata": {
      "needs_background": "light"
     },
     "output_type": "display_data"
    }
   ],
   "source": [
    "cm = confusion_matrix(y_test, test_preds)\n",
    "cm_df = pd.DataFrame(cm,\n",
    "                     index = ['Functional','Non-Functional','Needs Repair'], \n",
    "                     columns = ['Functional','Non-Functional','Needs Repair'])\n",
    "\n",
    "# Confusion matrix and classification report\n",
    "print(classification_report(y_test, test_preds))\n",
    "\n",
    "#Plotting the confusion matrix\n",
    "plt.figure(figsize=(8,8))\n",
    "sns.heatmap(cm_df, annot=True, fmt='g')\n",
    "plt.title('Confusion Matrix')\n",
    "plt.ylabel('Actual Values')\n",
    "plt.xlabel('Predicted Values')\n",
    "plt.show()\n",
    "\n"
   ]
  },
  {
   "cell_type": "code",
   "execution_count": 160,
   "metadata": {},
   "outputs": [
    {
     "name": "stdout",
     "output_type": "stream",
     "text": [
      "Precision Score: 0.783316863868421\n",
      "Recall Score: 0.7603801334992646\n",
      "Accuracy Score: 0.7603801334992646\n"
     ]
    }
   ],
   "source": [
    "# Complete the function\n",
    "def print_metrics(labels, test_preds):\n",
    "    print(\"Precision Score: {}\".format(precision_score(labels, test_preds, average='weighted')))\n",
    "    print(\"Recall Score: {}\".format(recall_score(labels, test_preds, average='weighted')))\n",
    "    print(\"Accuracy Score: {}\".format(accuracy_score(labels, test_preds)))\n",
    "    \n",
    "print_metrics(y_test, test_preds)"
   ]
  },
  {
   "cell_type": "code",
   "execution_count": 101,
   "metadata": {
    "scrolled": true
   },
   "outputs": [],
   "source": [
    "#get the values for the best estimators \n",
    "ohecols = gridsearch.best_estimator_.named_steps['preproccess'].transformers_[0][1]['onehotenc'].get_feature_names().tolist()"
   ]
  },
  {
   "cell_type": "code",
   "execution_count": 166,
   "metadata": {},
   "outputs": [
    {
     "data": {
      "text/plain": [
       "['amount_tsh',\n",
       " 'date_recorded',\n",
       " 'x0_acra',\n",
       " 'x0_adra',\n",
       " 'x0_adra /community',\n",
       " 'x0_adra/community',\n",
       " 'x0_aict',\n",
       " 'x0_amref',\n",
       " 'x0_angli',\n",
       " 'x0_cefa',\n",
       " 'x0_central government',\n",
       " 'x0_ces',\n",
       " 'x0_chamavita',\n",
       " 'x0_co',\n",
       " 'x0_community',\n",
       " 'x0_consulting engineer',\n",
       " 'x0_da',\n",
       " 'x0_danid',\n",
       " 'x0_danida',\n",
       " 'x0_dawasco',\n",
       " 'x0_ddca',\n",
       " 'x0_ded',\n",
       " 'x0_dh',\n",
       " 'x0_dhv',\n",
       " 'x0_district council',\n",
       " 'x0_district water department',\n",
       " 'x0_dmdd',\n",
       " 'x0_dw',\n",
       " 'x0_dwe',\n",
       " 'x0_dwsp',\n",
       " 'x0_fin water',\n",
       " 'x0_fini water',\n",
       " 'x0_finwater',\n",
       " 'x0_fw',\n",
       " 'x0_gen',\n",
       " 'x0_go',\n",
       " 'x0_government',\n",
       " 'x0_gtz',\n",
       " 'x0_h',\n",
       " 'x0_halmashauri ya wilaya sikonge',\n",
       " 'x0_handeni trunk main(',\n",
       " 'x0_he',\n",
       " 'x0_hesawa',\n",
       " 'x0_hsw',\n",
       " 'x0_idara ya maji',\n",
       " 'x0_ir',\n",
       " 'x0_is',\n",
       " 'x0_isf',\n",
       " 'x0_jaica',\n",
       " 'x0_jica',\n",
       " 'x0_ki',\n",
       " 'x0_kiliwater',\n",
       " 'x0_kkkt',\n",
       " 'x0_kkkt _ konde and dwe',\n",
       " 'x0_kkkt church',\n",
       " 'x0_kuwait',\n",
       " 'x0_lawatefuka water sup',\n",
       " 'x0_lga',\n",
       " 'x0_local te',\n",
       " 'x0_losaa-kia water supp',\n",
       " 'x0_lvia',\n",
       " 'x0_lwi',\n",
       " 'x0_magadini-makiwaru wa',\n",
       " 'x0_mdrdp',\n",
       " 'x0_missi',\n",
       " 'x0_mission',\n",
       " 'x0_mtn',\n",
       " 'x0_muwsa',\n",
       " 'x0_mwe',\n",
       " 'x0_ncaa',\n",
       " 'x0_norad',\n",
       " 'x0_oikos e .africa',\n",
       " 'x0_oxfam',\n",
       " 'x0_oxfarm',\n",
       " 'x0_pr',\n",
       " 'x0_priva',\n",
       " 'x0_private',\n",
       " 'x0_rc church',\n",
       " 'x0_rdc',\n",
       " 'x0_region water department',\n",
       " 'x0_roman',\n",
       " 'x0_rwe',\n",
       " 'x0_rwe/dwe',\n",
       " 'x0_rwssp',\n",
       " 'x0_sema',\n",
       " 'x0_sengerema water department',\n",
       " 'x0_shipo',\n",
       " 'x0_st',\n",
       " 'x0_tardo',\n",
       " 'x0_tasaf',\n",
       " 'x0_tassaf',\n",
       " 'x0_tcrs',\n",
       " 'x0_tlc',\n",
       " 'x0_twe',\n",
       " 'x0_twesa',\n",
       " 'x0_unicef',\n",
       " 'x0_unknown',\n",
       " 'x0_villa',\n",
       " 'x0_village council',\n",
       " 'x0_villagers',\n",
       " 'x0_vwc',\n",
       " 'x0_wa',\n",
       " 'x0_wachina',\n",
       " 'x0_wanan',\n",
       " 'x0_wananchi',\n",
       " 'x0_water',\n",
       " 'x0_water aid',\n",
       " 'x0_water board',\n",
       " 'x0_wedeco',\n",
       " 'x0_wizara ya maji',\n",
       " 'x0_world',\n",
       " 'x0_world bank',\n",
       " 'x0_world vision',\n",
       " 'x0_wu',\n",
       " 'x0_wvt',\n",
       " 'x1_adb',\n",
       " 'x1_adra',\n",
       " 'x1_african',\n",
       " 'x1_aict',\n",
       " 'x1_amref',\n",
       " 'x1_anglican church',\n",
       " 'x1_bsf',\n",
       " 'x1_caritas',\n",
       " 'x1_cefa',\n",
       " 'x1_ces (gmbh)',\n",
       " 'x1_ces(gmbh)',\n",
       " 'x1_cmsr',\n",
       " 'x1_co',\n",
       " 'x1_community',\n",
       " 'x1_conce',\n",
       " 'x1_concern',\n",
       " 'x1_concern world wide',\n",
       " 'x1_danida',\n",
       " 'x1_ded',\n",
       " 'x1_dfid',\n",
       " 'x1_dh',\n",
       " 'x1_dhv',\n",
       " 'x1_district council',\n",
       " 'x1_dmdd',\n",
       " 'x1_dwe',\n",
       " 'x1_dwsp',\n",
       " 'x1_fin water',\n",
       " 'x1_fini water',\n",
       " 'x1_finida german tanzania govt',\n",
       " 'x1_finw',\n",
       " 'x1_fw',\n",
       " 'x1_gen',\n",
       " 'x1_germany',\n",
       " 'x1_germany republi',\n",
       " 'x1_go',\n",
       " 'x1_government of tanzania',\n",
       " 'x1_gtz',\n",
       " 'x1_h',\n",
       " 'x1_halmashauri ya wilaya sikonge',\n",
       " 'x1_he',\n",
       " 'x1_hesawa',\n",
       " 'x1_hifab',\n",
       " 'x1_hsw',\n",
       " 'x1_idara ya maji',\n",
       " 'x1_idc',\n",
       " 'x1_ir',\n",
       " 'x1_irish ai',\n",
       " 'x1_is',\n",
       " 'x1_isf',\n",
       " 'x1_jaica',\n",
       " 'x1_japan',\n",
       " 'x1_jica',\n",
       " 'x1_ki',\n",
       " 'x1_kibaha town council',\n",
       " 'x1_kilindi district co',\n",
       " 'x1_kiliwater',\n",
       " 'x1_kirde',\n",
       " 'x1_kkkt',\n",
       " 'x1_kkkt church',\n",
       " 'x1_kkkt_makwale',\n",
       " 'x1_kuwait',\n",
       " 'x1_lamp',\n",
       " 'x1_lawatefuka water supply',\n",
       " 'x1_lga',\n",
       " 'x1_losaa-kia water supply',\n",
       " 'x1_lvia',\n",
       " 'x1_lwi',\n",
       " 'x1_magadini-makiwaru water',\n",
       " 'x1_md',\n",
       " 'x1_mdrdp',\n",
       " 'x1_ministry of water',\n",
       " 'x1_missi',\n",
       " 'x1_mission',\n",
       " 'x1_mkinga  distric cou',\n",
       " 'x1_mkinga distric coun',\n",
       " 'x1_muwsa',\n",
       " 'x1_national rural',\n",
       " 'x1_ncaa',\n",
       " 'x1_ndrdp',\n",
       " 'x1_nethalan',\n",
       " 'x1_netherlands',\n",
       " 'x1_no',\n",
       " 'x1_norad',\n",
       " 'x1_oikos e.afrika',\n",
       " 'x1_oxfam',\n",
       " 'x1_oxfarm',\n",
       " 'x1_plan int',\n",
       " 'x1_private',\n",
       " 'x1_private individual',\n",
       " 'x1_rc',\n",
       " 'x1_rc ch',\n",
       " 'x1_rc church',\n",
       " 'x1_roman',\n",
       " 'x1_roman catholic',\n",
       " 'x1_ru',\n",
       " 'x1_rudep',\n",
       " 'x1_rural water supply and sanitat',\n",
       " 'x1_rwssp',\n",
       " 'x1_sabemo',\n",
       " 'x1_shipo',\n",
       " 'x1_snv',\n",
       " 'x1_solidarm',\n",
       " 'x1_st',\n",
       " 'x1_swedish',\n",
       " 'x1_tanza',\n",
       " 'x1_tardo',\n",
       " 'x1_tasaf',\n",
       " 'x1_tassaf',\n",
       " 'x1_tcrs',\n",
       " 'x1_tlc',\n",
       " 'x1_twe',\n",
       " 'x1_twesa',\n",
       " 'x1_undp',\n",
       " 'x1_unhcr',\n",
       " 'x1_unice',\n",
       " 'x1_unicef',\n",
       " 'x1_unknown',\n",
       " 'x1_villagers',\n",
       " 'x1_vwc',\n",
       " 'x1_w.b',\n",
       " 'x1_wananchi',\n",
       " 'x1_water',\n",
       " 'x1_wateraid',\n",
       " 'x1_world bank',\n",
       " 'x1_world vision',\n",
       " 'x1_wsdp',\n",
       " 'x1_wua',\n",
       " 'x1_wvt',\n",
       " 'x2_Internal',\n",
       " 'x2_Lake Nyasa',\n",
       " 'x2_Lake Rukwa',\n",
       " 'x2_Lake Tanganyika',\n",
       " 'x2_Lake Victoria',\n",
       " 'x2_Pangani',\n",
       " 'x2_Rufiji',\n",
       " 'x2_Ruvuma',\n",
       " 'x2_Wami',\n",
       " 'x3_Arusha',\n",
       " 'x3_Dar es Salaam',\n",
       " 'x3_Dodoma',\n",
       " 'x3_Iringa',\n",
       " 'x3_Kagera',\n",
       " 'x3_Kigoma',\n",
       " 'x3_Kilimanjaro',\n",
       " 'x3_Lindi',\n",
       " 'x3_Manyara',\n",
       " 'x3_Mara',\n",
       " 'x3_Mbeya',\n",
       " 'x3_Morogoro',\n",
       " 'x3_Mtwara',\n",
       " 'x3_Mwanza',\n",
       " 'x3_Pwani',\n",
       " 'x3_Rukwa',\n",
       " 'x3_Ruvuma',\n",
       " 'x3_Shinyanga',\n",
       " 'x3_Singida',\n",
       " 'x3_Tabora',\n",
       " 'x3_Tanga',\n",
       " 'x4_Company',\n",
       " 'x4_None',\n",
       " 'x4_Other',\n",
       " 'x4_Parastatal',\n",
       " 'x4_Private operator',\n",
       " 'x4_SWC',\n",
       " 'x4_Trust',\n",
       " 'x4_VWC',\n",
       " 'x4_WUA',\n",
       " 'x4_WUG',\n",
       " 'x4_Water Board',\n",
       " 'x4_Water authority',\n",
       " 'x5_afridev',\n",
       " 'x5_cemo',\n",
       " 'x5_climax',\n",
       " 'x5_gravity',\n",
       " 'x5_india mark ii',\n",
       " 'x5_india mark iii',\n",
       " 'x5_ksb',\n",
       " 'x5_mono',\n",
       " 'x5_nira/tanira',\n",
       " 'x5_other',\n",
       " 'x5_other - mkulima/shinyanga',\n",
       " 'x5_other - play pump',\n",
       " 'x5_other - rope pump',\n",
       " 'x5_other - swn 81',\n",
       " 'x5_submersible',\n",
       " 'x5_swn 80',\n",
       " 'x5_walimi',\n",
       " 'x5_windmill',\n",
       " 'x6_company',\n",
       " 'x6_other',\n",
       " 'x6_other - school',\n",
       " 'x6_parastatal',\n",
       " 'x6_private operator',\n",
       " 'x6_trust',\n",
       " 'x6_unknown',\n",
       " 'x6_vwc',\n",
       " 'x6_water authority',\n",
       " 'x6_water board',\n",
       " 'x6_wua',\n",
       " 'x6_wug',\n",
       " 'x7_never pay',\n",
       " 'x7_other',\n",
       " 'x7_pay annually',\n",
       " 'x7_pay monthly',\n",
       " 'x7_pay per bucket',\n",
       " 'x7_pay when scheme fails',\n",
       " 'x7_unknown',\n",
       " 'x8_colored',\n",
       " 'x8_fluoride',\n",
       " 'x8_good',\n",
       " 'x8_milky',\n",
       " 'x8_salty',\n",
       " 'x8_unknown',\n",
       " 'x9_dry',\n",
       " 'x9_enough',\n",
       " 'x9_insufficient',\n",
       " 'x9_seasonal',\n",
       " 'x9_unknown',\n",
       " 'x10_dam',\n",
       " 'x10_hand dtw',\n",
       " 'x10_lake',\n",
       " 'x10_machine dbh',\n",
       " 'x10_other',\n",
       " 'x10_rainwater harvesting',\n",
       " 'x10_river',\n",
       " 'x10_shallow well',\n",
       " 'x10_spring',\n",
       " 'x10_unknown',\n",
       " 'x11_cattle trough',\n",
       " 'x11_communal standpipe',\n",
       " 'x11_communal standpipe multiple',\n",
       " 'x11_dam',\n",
       " 'x11_hand pump',\n",
       " 'x11_improved spring',\n",
       " 'x11_other',\n",
       " 'population',\n",
       " 'construction_year']"
      ]
     },
     "execution_count": 166,
     "metadata": {},
     "output_type": "execute_result"
    }
   ],
   "source": [
    "cols = ['amount_tsh', 'date_recorded'] + ohecols + [ 'population', 'construction_year']\n",
    "cols"
   ]
  },
  {
   "cell_type": "code",
   "execution_count": 162,
   "metadata": {},
   "outputs": [],
   "source": [
    "with open('BestTunedXgbModel.pickle', 'wb') as f:\n",
    "           pickle.dump(XgbModel_Pipe, f)"
   ]
  },
  {
   "cell_type": "markdown",
   "metadata": {},
   "source": [
    "# Two Categories"
   ]
  },
  {
   "cell_type": "code",
   "execution_count": 55,
   "metadata": {},
   "outputs": [],
   "source": [
    "df2 = df"
   ]
  },
  {
   "cell_type": "code",
   "execution_count": 56,
   "metadata": {},
   "outputs": [],
   "source": [
    "#turn the problem into a 2 categorical problem. If a well needs repair, its also non functional\n",
    "df2['status_group'].replace(to_replace = 'functional needs repair', value ='non functional' , inplace=True)"
   ]
  },
  {
   "cell_type": "code",
   "execution_count": 57,
   "metadata": {},
   "outputs": [
    {
     "data": {
      "text/plain": [
       "functional        23920\n",
       "non functional    20275\n",
       "Name: status_group, dtype: int64"
      ]
     },
     "execution_count": 57,
     "metadata": {},
     "output_type": "execute_result"
    }
   ],
   "source": [
    "df2['status_group'].value_counts()"
   ]
  },
  {
   "cell_type": "code",
   "execution_count": 58,
   "metadata": {},
   "outputs": [],
   "source": [
    "#columns to keep for a cleaner dataset. Dropped columns that either had redundant data, or many null/0 values.\n",
    "\n",
    "keep_columns = ['status_group','amount_tsh','date_recorded','funder','installer','longitude','latitude','basin',\n",
    "                'region','region_code','district_code','recorded_by','scheme_management','extraction_type','management',\n",
    "                'payment','quality_group','quantity','source','waterpoint_type','population','construction_year']\n",
    "                \n",
    "df2 = df2[keep_columns]"
   ]
  },
  {
   "cell_type": "code",
   "execution_count": 59,
   "metadata": {},
   "outputs": [
    {
     "name": "stdout",
     "output_type": "stream",
     "text": [
      "<class 'pandas.core.frame.DataFrame'>\n",
      "Int64Index: 44195 entries, 69572 to 26348\n",
      "Data columns (total 22 columns):\n",
      " #   Column             Non-Null Count  Dtype  \n",
      "---  ------             --------------  -----  \n",
      " 0   status_group       44195 non-null  object \n",
      " 1   amount_tsh         44195 non-null  float64\n",
      " 2   date_recorded      44195 non-null  object \n",
      " 3   funder             44195 non-null  object \n",
      " 4   installer          44195 non-null  object \n",
      " 5   longitude          44195 non-null  float64\n",
      " 6   latitude           44195 non-null  float64\n",
      " 7   basin              44195 non-null  object \n",
      " 8   region             44195 non-null  object \n",
      " 9   region_code        44195 non-null  int64  \n",
      " 10  district_code      44195 non-null  int64  \n",
      " 11  recorded_by        44195 non-null  object \n",
      " 12  scheme_management  44195 non-null  object \n",
      " 13  extraction_type    44195 non-null  object \n",
      " 14  management         44195 non-null  object \n",
      " 15  payment            44195 non-null  object \n",
      " 16  quality_group      44195 non-null  object \n",
      " 17  quantity           44195 non-null  object \n",
      " 18  source             44195 non-null  object \n",
      " 19  waterpoint_type    44195 non-null  object \n",
      " 20  population         44195 non-null  int64  \n",
      " 21  construction_year  44195 non-null  int64  \n",
      "dtypes: float64(3), int64(4), object(15)\n",
      "memory usage: 7.8+ MB\n"
     ]
    }
   ],
   "source": [
    "#drop the null values in the dataset\n",
    "df2.dropna(axis = 0, inplace = True)\n",
    "\n",
    "#over 51k rows should be plenty of data for this project\n",
    "df2.info()"
   ]
  },
  {
   "cell_type": "code",
   "execution_count": 60,
   "metadata": {},
   "outputs": [],
   "source": [
    "#remove the / from basin values\n",
    "df2['basin'] = df2['basin'].replace(['Wami / Ruvu','Ruvuma / Southern Coast'],['Wami','Ruvuma'])"
   ]
  },
  {
   "cell_type": "code",
   "execution_count": 61,
   "metadata": {},
   "outputs": [],
   "source": [
    "#create X and y varaibles and set status_group as the target\n",
    "\n",
    "X = df2.drop(columns = ['status_group'])\n",
    "y = df2['status_group']\n",
    "\n",
    "X =  X.reset_index(drop=True)\n",
    "y = y.reset_index(drop=True)\n",
    "\n",
    "lab_enc = LabelEncoder()\n",
    "y = lab_enc.fit_transform(y)"
   ]
  },
  {
   "cell_type": "code",
   "execution_count": 62,
   "metadata": {},
   "outputs": [],
   "source": [
    "#Important to split the data before making any transformations or imputing.\n",
    "#using the standard 80/20 split \n",
    "X_train, X_test, y_train, y_test = train_test_split(X, y, test_size = 0.20, stratify = y, random_state = 42)"
   ]
  },
  {
   "cell_type": "code",
   "execution_count": 63,
   "metadata": {},
   "outputs": [],
   "source": [
    "#going to build pipelines to manage data wrangling \n",
    "\n",
    "quality_group = [['unknown','fluoride','colored','milky','salty','good']]\n",
    "quantity = [['unknown','insufficient','dry','seasonal','enough']]                \n",
    "\n",
    "#using the median since the data is to heavily skewed\n",
    "numeric_pipeline = Pipeline(steps = [\n",
    "                           ('numimputer', SimpleImputer(strategy = 'median')),\n",
    "                           ('numnorm', StandardScaler())])\n",
    "\n",
    "#categories like water quality, quantity have an order \n",
    "ordinal_pipeline1 = Pipeline(steps= [\n",
    "                            ('ordimputer', SimpleImputer(strategy = 'most_frequent')),\n",
    "                            ('ordenc', OrdinalEncoder(categories = quality_group)),\n",
    "                            ('ordnorm', StandardScaler())])\n",
    "\n",
    "ordinal_pipeline2 = Pipeline(steps=[\n",
    "                            ('ordimputer', SimpleImputer(strategy = 'most_frequent')),\n",
    "                            ('ordenc_quantity', OrdinalEncoder(categories = quantity)),\n",
    "                            ('ordnorm', StandardScaler())])\n",
    "\n",
    "nominal_pipeline = Pipeline(steps= [\n",
    "                           ('onehotimputer', SimpleImputer(strategy = 'most_frequent')),\n",
    "                           ('onehotenc', OneHotEncoder(handle_unknown ='ignore')), \n",
    "                           ('onehotnorm', MaxAbsScaler())])"
   ]
  },
  {
   "cell_type": "code",
   "execution_count": 64,
   "metadata": {},
   "outputs": [],
   "source": [
    "#Specify which column the pipelines will act on. Since I don't have a definitive key for\n",
    "#the order of quality_group and quantity, I'm going to treat them as categorical variables.\n",
    "\n",
    "num_cols = df.select_dtypes(['int', 'float']).columns\n",
    "\n",
    "cat_cols = ['amount_tsh','installer','funder','longitude','latitude','basin','region',\n",
    "            'region_code','district_code','scheme_management','extraction_type','management',\n",
    "            'payment','quality_group','quantity','source','waterpoint_type','population',\n",
    "            'construction_year']\n",
    "\n",
    "ct = ColumnTransformer([\n",
    "                        (\"nominalpipe\", nominal_pipeline, cat_cols),\n",
    "                        (\"numpipe\", numeric_pipeline, num_cols)\n",
    "                       ])"
   ]
  },
  {
   "cell_type": "markdown",
   "metadata": {},
   "source": [
    "# Two class Logistic Regression"
   ]
  },
  {
   "cell_type": "code",
   "execution_count": 65,
   "metadata": {},
   "outputs": [
    {
     "name": "stdout",
     "output_type": "stream",
     "text": [
      "The score of the model is:  0.7796130784025342\n"
     ]
    }
   ],
   "source": [
    "#making a baseline logistic regression model. Logistic regression isn't good for multi class\n",
    "#classification but it's worth seeing how it would do.\n",
    "\n",
    "LogModel_pipe = Pipeline(steps= [('preproccess', ct),\n",
    "                                 ('model', LogisticRegression(solver = 'liblinear'))])\n",
    "\n",
    "LogModel_pipe.fit(X_train,y_train)\n",
    "\n",
    "#make predictions\n",
    "y_hat_train = LogModel_pipe.predict(X_train)\n",
    "y_hat_pred = LogModel_pipe.predict(X_test)\n",
    "\n",
    "#score on test data\n",
    "print('The score of the model is: ',LogModel_pipe.score(X_test,y_test))"
   ]
  },
  {
   "cell_type": "code",
   "execution_count": 67,
   "metadata": {},
   "outputs": [
    {
     "data": {
      "image/png": "[encoded data removed]",
      "text/plain": [
       "<Figure size 504x432 with 2 Axes>"
      ]
     },
     "metadata": {
      "needs_background": "light"
     },
     "output_type": "display_data"
    }
   ],
   "source": [
    "#create a confusion matrix\n",
    "cm = confusion_matrix(y_test, y_hat_pred)\n",
    "\n",
    "cm_df = pd.DataFrame(cm,\n",
    "                     index = ['Functional','Non-Functional'], \n",
    "                     columns = ['Functional','Non-Functional'])\n",
    "\n",
    "#Plotting the confusion matrix\n",
    "plt.figure(figsize=(7,6))\n",
    "sns.heatmap(cm_df, annot=True, fmt='g')\n",
    "plt.title('Confusion Matrix')\n",
    "plt.ylabel('Actual Values')\n",
    "plt.xlabel('Predicted Values')\n",
    "plt.show()"
   ]
  },
  {
   "cell_type": "markdown",
   "metadata": {},
   "source": [
    "# Two Class Desicion Tree"
   ]
  },
  {
   "cell_type": "code",
   "execution_count": 69,
   "metadata": {},
   "outputs": [
    {
     "data": {
      "text/plain": [
       "Pipeline(steps=[('preproccess',\n",
       "                 ColumnTransformer(transformers=[('nominalpipe',\n",
       "                                                  Pipeline(steps=[('onehotimputer',\n",
       "                                                                   SimpleImputer(strategy='most_frequent')),\n",
       "                                                                  ('onehotenc',\n",
       "                                                                   OneHotEncoder(handle_unknown='ignore')),\n",
       "                                                                  ('onehotnorm',\n",
       "                                                                   MaxAbsScaler())]),\n",
       "                                                  ['amount_tsh', 'installer',\n",
       "                                                   'funder', 'longitude',\n",
       "                                                   'latitude', 'basin',\n",
       "                                                   'region', 'region_code',\n",
       "                                                   'district_code',\n",
       "                                                   'scheme_...\n",
       "                                                   'source', 'waterpoint_type',\n",
       "                                                   'population',\n",
       "                                                   'construction_year']),\n",
       "                                                 ('numpipe',\n",
       "                                                  Pipeline(steps=[('numimputer',\n",
       "                                                                   SimpleImputer(strategy='median')),\n",
       "                                                                  ('numnorm',\n",
       "                                                                   StandardScaler())]),\n",
       "                                                  Index(['amount_tsh', 'longitude', 'latitude', 'region_code', 'district_code',\n",
       "       'population', 'construction_year'],\n",
       "      dtype='object'))])),\n",
       "                ('model',\n",
       "                 DecisionTreeClassifier(criterion='entropy', random_state=42))])"
      ]
     },
     "execution_count": 69,
     "metadata": {},
     "output_type": "execute_result"
    }
   ],
   "source": [
    "#Making a basic desicion tree model. Usually we don't use SMOTE in baseline models but \n",
    "#have to here because the data is imbalanced.\n",
    "\n",
    "BaseTreeModel_pipe = Pipeline(steps= [('preproccess', ct),\n",
    "                                      ('model',  DecisionTreeClassifier(criterion='entropy', \n",
    "                                                                        random_state = 42))])\n",
    "\n",
    "BaseTreeModel_pipe.fit(X_train,y_train)"
   ]
  },
  {
   "cell_type": "code",
   "execution_count": 70,
   "metadata": {},
   "outputs": [
    {
     "name": "stdout",
     "output_type": "stream",
     "text": [
      "              precision    recall  f1-score   support\n",
      "\n",
      "           0       0.81      0.81      0.81      4784\n",
      "           1       0.78      0.77      0.78      4055\n",
      "\n",
      "    accuracy                           0.79      8839\n",
      "   macro avg       0.79      0.79      0.79      8839\n",
      "weighted avg       0.79      0.79      0.79      8839\n",
      "\n",
      "Accuracy is :79.44337594750537\n"
     ]
    },
    {
     "data": {
      "image/png": "[encoded data removed]",
      "text/plain": [
       "<Figure size 504x432 with 2 Axes>"
      ]
     },
     "metadata": {
      "needs_background": "light"
     },
     "output_type": "display_data"
    }
   ],
   "source": [
    "# make predictions\n",
    "y_pred = BaseTreeModel_pipe.predict(X_test)\n",
    "\n",
    "# Confusion matrix and classification report\n",
    "print(classification_report(y_test, y_pred))\n",
    "\n",
    "# Calculate accuracy \n",
    "acc = accuracy_score(y_test, y_pred) * 100\n",
    "print('Accuracy is :{0}'.format(acc))\n",
    "\n",
    "cm = confusion_matrix(y_test, y_pred)\n",
    "cm_df = pd.DataFrame(cm,\n",
    "                     index = ['Functional','Non-Functional'],\n",
    "                     columns = ['Functional','Non-Functional'])\n",
    "\n",
    "#Plotting the confusion matrix\n",
    "plt.figure(figsize=(7,6))\n",
    "sns.heatmap(cm_df, annot=True, fmt='g')\n",
    "plt.title('Confusion Matrix')\n",
    "plt.ylabel('Actual Values')\n",
    "plt.xlabel('Predicted Values')\n",
    "plt.show()"
   ]
  },
  {
   "cell_type": "code",
   "execution_count": null,
   "metadata": {},
   "outputs": [],
   "source": []
  }
 ],
 "metadata": {
  "kernelspec": {
   "display_name": "Python 3",
   "language": "python",
   "name": "python3"
  },
  "language_info": {
   "codemirror_mode": {
    "name": "ipython",
    "version": 3
   },
   "file_extension": ".py",
   "mimetype": "text/x-python",
   "name": "python",
   "nbconvert_exporter": "python",
   "pygments_lexer": "ipython3",
   "version": "3.8.5"
  }
 },
 "nbformat": 4,
 "nbformat_minor": 4
}
